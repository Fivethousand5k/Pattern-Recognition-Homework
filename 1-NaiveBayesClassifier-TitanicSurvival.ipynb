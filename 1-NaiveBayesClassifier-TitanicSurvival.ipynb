{
 "cells": [
  {
   "cell_type": "markdown",
   "id": "3067ec7f",
   "metadata": {},
   "source": [
    "## 泰坦尼克号存活预测--离散及连续型朴素贝叶斯分类器\n"
   ]
  },
  {
   "cell_type": "code",
   "execution_count": 1,
   "id": "2218b59a",
   "metadata": {},
   "outputs": [],
   "source": [
    "import numpy as np    #用于数据处理\n",
    "import pandas as pd   # 用于数据处理\n",
    "import matplotlib.pyplot as plt   #用于画图\n",
    "import matplotlib.patches as mpatches   # 用于画图\n",
    "import seaborn as sns        #用于画图\n",
    "import warnings\n",
    "sns.set(style=\"darkgrid\", palette=\"muted\", color_codes=True)\n",
    "%matplotlib inline\n",
    "warnings.filterwarnings('ignore')"
   ]
  },
  {
   "cell_type": "markdown",
   "id": "8898a40e",
   "metadata": {},
   "source": [
    "## 一.数据处理部分\n",
    "### 1.读取以及可视化数据"
   ]
  },
  {
   "cell_type": "code",
   "execution_count": 2,
   "id": "9748a74b",
   "metadata": {},
   "outputs": [],
   "source": [
    "train_df=pd.read_csv(\"./train.csv\")   #训练数据\n",
    "test_df=pd.read_csv(\"./test.csv\")     #测试数据"
   ]
  },
  {
   "cell_type": "markdown",
   "id": "239d13da",
   "metadata": {},
   "source": [
    "#### 可视化部分训练数据"
   ]
  },
  {
   "cell_type": "code",
   "execution_count": 3,
   "id": "419e23af",
   "metadata": {},
   "outputs": [
    {
     "data": {
      "text/html": [
       "<div>\n",
       "<style scoped>\n",
       "    .dataframe tbody tr th:only-of-type {\n",
       "        vertical-align: middle;\n",
       "    }\n",
       "\n",
       "    .dataframe tbody tr th {\n",
       "        vertical-align: top;\n",
       "    }\n",
       "\n",
       "    .dataframe thead th {\n",
       "        text-align: right;\n",
       "    }\n",
       "</style>\n",
       "<table border=\"1\" class=\"dataframe\">\n",
       "  <thead>\n",
       "    <tr style=\"text-align: right;\">\n",
       "      <th></th>\n",
       "      <th>PassengerId</th>\n",
       "      <th>Survived</th>\n",
       "      <th>Pclass</th>\n",
       "      <th>Name</th>\n",
       "      <th>Sex</th>\n",
       "      <th>Age</th>\n",
       "      <th>SibSp</th>\n",
       "      <th>Parch</th>\n",
       "      <th>Ticket</th>\n",
       "      <th>Fare</th>\n",
       "      <th>Cabin</th>\n",
       "      <th>Embarked</th>\n",
       "    </tr>\n",
       "  </thead>\n",
       "  <tbody>\n",
       "    <tr>\n",
       "      <th>0</th>\n",
       "      <td>1</td>\n",
       "      <td>0</td>\n",
       "      <td>3</td>\n",
       "      <td>Braund, Mr. Owen Harris</td>\n",
       "      <td>male</td>\n",
       "      <td>22.0</td>\n",
       "      <td>1</td>\n",
       "      <td>0</td>\n",
       "      <td>A/5 21171</td>\n",
       "      <td>7.2500</td>\n",
       "      <td>NaN</td>\n",
       "      <td>S</td>\n",
       "    </tr>\n",
       "    <tr>\n",
       "      <th>1</th>\n",
       "      <td>2</td>\n",
       "      <td>1</td>\n",
       "      <td>1</td>\n",
       "      <td>Cumings, Mrs. John Bradley (Florence Briggs Th...</td>\n",
       "      <td>female</td>\n",
       "      <td>38.0</td>\n",
       "      <td>1</td>\n",
       "      <td>0</td>\n",
       "      <td>PC 17599</td>\n",
       "      <td>71.2833</td>\n",
       "      <td>C85</td>\n",
       "      <td>C</td>\n",
       "    </tr>\n",
       "    <tr>\n",
       "      <th>2</th>\n",
       "      <td>3</td>\n",
       "      <td>1</td>\n",
       "      <td>3</td>\n",
       "      <td>Heikkinen, Miss. Laina</td>\n",
       "      <td>female</td>\n",
       "      <td>26.0</td>\n",
       "      <td>0</td>\n",
       "      <td>0</td>\n",
       "      <td>STON/O2. 3101282</td>\n",
       "      <td>7.9250</td>\n",
       "      <td>NaN</td>\n",
       "      <td>S</td>\n",
       "    </tr>\n",
       "    <tr>\n",
       "      <th>3</th>\n",
       "      <td>4</td>\n",
       "      <td>1</td>\n",
       "      <td>1</td>\n",
       "      <td>Futrelle, Mrs. Jacques Heath (Lily May Peel)</td>\n",
       "      <td>female</td>\n",
       "      <td>35.0</td>\n",
       "      <td>1</td>\n",
       "      <td>0</td>\n",
       "      <td>113803</td>\n",
       "      <td>53.1000</td>\n",
       "      <td>C123</td>\n",
       "      <td>S</td>\n",
       "    </tr>\n",
       "    <tr>\n",
       "      <th>4</th>\n",
       "      <td>5</td>\n",
       "      <td>0</td>\n",
       "      <td>3</td>\n",
       "      <td>Allen, Mr. William Henry</td>\n",
       "      <td>male</td>\n",
       "      <td>35.0</td>\n",
       "      <td>0</td>\n",
       "      <td>0</td>\n",
       "      <td>373450</td>\n",
       "      <td>8.0500</td>\n",
       "      <td>NaN</td>\n",
       "      <td>S</td>\n",
       "    </tr>\n",
       "    <tr>\n",
       "      <th>...</th>\n",
       "      <td>...</td>\n",
       "      <td>...</td>\n",
       "      <td>...</td>\n",
       "      <td>...</td>\n",
       "      <td>...</td>\n",
       "      <td>...</td>\n",
       "      <td>...</td>\n",
       "      <td>...</td>\n",
       "      <td>...</td>\n",
       "      <td>...</td>\n",
       "      <td>...</td>\n",
       "      <td>...</td>\n",
       "    </tr>\n",
       "    <tr>\n",
       "      <th>886</th>\n",
       "      <td>887</td>\n",
       "      <td>0</td>\n",
       "      <td>2</td>\n",
       "      <td>Montvila, Rev. Juozas</td>\n",
       "      <td>male</td>\n",
       "      <td>27.0</td>\n",
       "      <td>0</td>\n",
       "      <td>0</td>\n",
       "      <td>211536</td>\n",
       "      <td>13.0000</td>\n",
       "      <td>NaN</td>\n",
       "      <td>S</td>\n",
       "    </tr>\n",
       "    <tr>\n",
       "      <th>887</th>\n",
       "      <td>888</td>\n",
       "      <td>1</td>\n",
       "      <td>1</td>\n",
       "      <td>Graham, Miss. Margaret Edith</td>\n",
       "      <td>female</td>\n",
       "      <td>19.0</td>\n",
       "      <td>0</td>\n",
       "      <td>0</td>\n",
       "      <td>112053</td>\n",
       "      <td>30.0000</td>\n",
       "      <td>B42</td>\n",
       "      <td>S</td>\n",
       "    </tr>\n",
       "    <tr>\n",
       "      <th>888</th>\n",
       "      <td>889</td>\n",
       "      <td>0</td>\n",
       "      <td>3</td>\n",
       "      <td>Johnston, Miss. Catherine Helen \"Carrie\"</td>\n",
       "      <td>female</td>\n",
       "      <td>NaN</td>\n",
       "      <td>1</td>\n",
       "      <td>2</td>\n",
       "      <td>W./C. 6607</td>\n",
       "      <td>23.4500</td>\n",
       "      <td>NaN</td>\n",
       "      <td>S</td>\n",
       "    </tr>\n",
       "    <tr>\n",
       "      <th>889</th>\n",
       "      <td>890</td>\n",
       "      <td>1</td>\n",
       "      <td>1</td>\n",
       "      <td>Behr, Mr. Karl Howell</td>\n",
       "      <td>male</td>\n",
       "      <td>26.0</td>\n",
       "      <td>0</td>\n",
       "      <td>0</td>\n",
       "      <td>111369</td>\n",
       "      <td>30.0000</td>\n",
       "      <td>C148</td>\n",
       "      <td>C</td>\n",
       "    </tr>\n",
       "    <tr>\n",
       "      <th>890</th>\n",
       "      <td>891</td>\n",
       "      <td>0</td>\n",
       "      <td>3</td>\n",
       "      <td>Dooley, Mr. Patrick</td>\n",
       "      <td>male</td>\n",
       "      <td>32.0</td>\n",
       "      <td>0</td>\n",
       "      <td>0</td>\n",
       "      <td>370376</td>\n",
       "      <td>7.7500</td>\n",
       "      <td>NaN</td>\n",
       "      <td>Q</td>\n",
       "    </tr>\n",
       "  </tbody>\n",
       "</table>\n",
       "<p>891 rows × 12 columns</p>\n",
       "</div>"
      ],
      "text/plain": [
       "     PassengerId  Survived  Pclass  \\\n",
       "0              1         0       3   \n",
       "1              2         1       1   \n",
       "2              3         1       3   \n",
       "3              4         1       1   \n",
       "4              5         0       3   \n",
       "..           ...       ...     ...   \n",
       "886          887         0       2   \n",
       "887          888         1       1   \n",
       "888          889         0       3   \n",
       "889          890         1       1   \n",
       "890          891         0       3   \n",
       "\n",
       "                                                  Name     Sex   Age  SibSp  \\\n",
       "0                              Braund, Mr. Owen Harris    male  22.0      1   \n",
       "1    Cumings, Mrs. John Bradley (Florence Briggs Th...  female  38.0      1   \n",
       "2                               Heikkinen, Miss. Laina  female  26.0      0   \n",
       "3         Futrelle, Mrs. Jacques Heath (Lily May Peel)  female  35.0      1   \n",
       "4                             Allen, Mr. William Henry    male  35.0      0   \n",
       "..                                                 ...     ...   ...    ...   \n",
       "886                              Montvila, Rev. Juozas    male  27.0      0   \n",
       "887                       Graham, Miss. Margaret Edith  female  19.0      0   \n",
       "888           Johnston, Miss. Catherine Helen \"Carrie\"  female   NaN      1   \n",
       "889                              Behr, Mr. Karl Howell    male  26.0      0   \n",
       "890                                Dooley, Mr. Patrick    male  32.0      0   \n",
       "\n",
       "     Parch            Ticket     Fare Cabin Embarked  \n",
       "0        0         A/5 21171   7.2500   NaN        S  \n",
       "1        0          PC 17599  71.2833   C85        C  \n",
       "2        0  STON/O2. 3101282   7.9250   NaN        S  \n",
       "3        0            113803  53.1000  C123        S  \n",
       "4        0            373450   8.0500   NaN        S  \n",
       "..     ...               ...      ...   ...      ...  \n",
       "886      0            211536  13.0000   NaN        S  \n",
       "887      0            112053  30.0000   B42        S  \n",
       "888      2        W./C. 6607  23.4500   NaN        S  \n",
       "889      0            111369  30.0000  C148        C  \n",
       "890      0            370376   7.7500   NaN        Q  \n",
       "\n",
       "[891 rows x 12 columns]"
      ]
     },
     "execution_count": 3,
     "metadata": {},
     "output_type": "execute_result"
    }
   ],
   "source": [
    "train_df"
   ]
  },
  {
   "cell_type": "markdown",
   "id": "8e4cca0c",
   "metadata": {},
   "source": [
    "#### 可视化部分测试数据"
   ]
  },
  {
   "cell_type": "code",
   "execution_count": 4,
   "id": "ed4df0cf",
   "metadata": {},
   "outputs": [
    {
     "data": {
      "text/html": [
       "<div>\n",
       "<style scoped>\n",
       "    .dataframe tbody tr th:only-of-type {\n",
       "        vertical-align: middle;\n",
       "    }\n",
       "\n",
       "    .dataframe tbody tr th {\n",
       "        vertical-align: top;\n",
       "    }\n",
       "\n",
       "    .dataframe thead th {\n",
       "        text-align: right;\n",
       "    }\n",
       "</style>\n",
       "<table border=\"1\" class=\"dataframe\">\n",
       "  <thead>\n",
       "    <tr style=\"text-align: right;\">\n",
       "      <th></th>\n",
       "      <th>PassengerId</th>\n",
       "      <th>Pclass</th>\n",
       "      <th>Name</th>\n",
       "      <th>Sex</th>\n",
       "      <th>Age</th>\n",
       "      <th>SibSp</th>\n",
       "      <th>Parch</th>\n",
       "      <th>Ticket</th>\n",
       "      <th>Fare</th>\n",
       "      <th>Cabin</th>\n",
       "      <th>Embarked</th>\n",
       "    </tr>\n",
       "  </thead>\n",
       "  <tbody>\n",
       "    <tr>\n",
       "      <th>0</th>\n",
       "      <td>892</td>\n",
       "      <td>3</td>\n",
       "      <td>Kelly, Mr. James</td>\n",
       "      <td>male</td>\n",
       "      <td>34.5</td>\n",
       "      <td>0</td>\n",
       "      <td>0</td>\n",
       "      <td>330911</td>\n",
       "      <td>7.8292</td>\n",
       "      <td>NaN</td>\n",
       "      <td>Q</td>\n",
       "    </tr>\n",
       "    <tr>\n",
       "      <th>1</th>\n",
       "      <td>893</td>\n",
       "      <td>3</td>\n",
       "      <td>Wilkes, Mrs. James (Ellen Needs)</td>\n",
       "      <td>female</td>\n",
       "      <td>47.0</td>\n",
       "      <td>1</td>\n",
       "      <td>0</td>\n",
       "      <td>363272</td>\n",
       "      <td>7.0000</td>\n",
       "      <td>NaN</td>\n",
       "      <td>S</td>\n",
       "    </tr>\n",
       "    <tr>\n",
       "      <th>2</th>\n",
       "      <td>894</td>\n",
       "      <td>2</td>\n",
       "      <td>Myles, Mr. Thomas Francis</td>\n",
       "      <td>male</td>\n",
       "      <td>62.0</td>\n",
       "      <td>0</td>\n",
       "      <td>0</td>\n",
       "      <td>240276</td>\n",
       "      <td>9.6875</td>\n",
       "      <td>NaN</td>\n",
       "      <td>Q</td>\n",
       "    </tr>\n",
       "    <tr>\n",
       "      <th>3</th>\n",
       "      <td>895</td>\n",
       "      <td>3</td>\n",
       "      <td>Wirz, Mr. Albert</td>\n",
       "      <td>male</td>\n",
       "      <td>27.0</td>\n",
       "      <td>0</td>\n",
       "      <td>0</td>\n",
       "      <td>315154</td>\n",
       "      <td>8.6625</td>\n",
       "      <td>NaN</td>\n",
       "      <td>S</td>\n",
       "    </tr>\n",
       "    <tr>\n",
       "      <th>4</th>\n",
       "      <td>896</td>\n",
       "      <td>3</td>\n",
       "      <td>Hirvonen, Mrs. Alexander (Helga E Lindqvist)</td>\n",
       "      <td>female</td>\n",
       "      <td>22.0</td>\n",
       "      <td>1</td>\n",
       "      <td>1</td>\n",
       "      <td>3101298</td>\n",
       "      <td>12.2875</td>\n",
       "      <td>NaN</td>\n",
       "      <td>S</td>\n",
       "    </tr>\n",
       "    <tr>\n",
       "      <th>...</th>\n",
       "      <td>...</td>\n",
       "      <td>...</td>\n",
       "      <td>...</td>\n",
       "      <td>...</td>\n",
       "      <td>...</td>\n",
       "      <td>...</td>\n",
       "      <td>...</td>\n",
       "      <td>...</td>\n",
       "      <td>...</td>\n",
       "      <td>...</td>\n",
       "      <td>...</td>\n",
       "    </tr>\n",
       "    <tr>\n",
       "      <th>413</th>\n",
       "      <td>1305</td>\n",
       "      <td>3</td>\n",
       "      <td>Spector, Mr. Woolf</td>\n",
       "      <td>male</td>\n",
       "      <td>NaN</td>\n",
       "      <td>0</td>\n",
       "      <td>0</td>\n",
       "      <td>A.5. 3236</td>\n",
       "      <td>8.0500</td>\n",
       "      <td>NaN</td>\n",
       "      <td>S</td>\n",
       "    </tr>\n",
       "    <tr>\n",
       "      <th>414</th>\n",
       "      <td>1306</td>\n",
       "      <td>1</td>\n",
       "      <td>Oliva y Ocana, Dona. Fermina</td>\n",
       "      <td>female</td>\n",
       "      <td>39.0</td>\n",
       "      <td>0</td>\n",
       "      <td>0</td>\n",
       "      <td>PC 17758</td>\n",
       "      <td>108.9000</td>\n",
       "      <td>C105</td>\n",
       "      <td>C</td>\n",
       "    </tr>\n",
       "    <tr>\n",
       "      <th>415</th>\n",
       "      <td>1307</td>\n",
       "      <td>3</td>\n",
       "      <td>Saether, Mr. Simon Sivertsen</td>\n",
       "      <td>male</td>\n",
       "      <td>38.5</td>\n",
       "      <td>0</td>\n",
       "      <td>0</td>\n",
       "      <td>SOTON/O.Q. 3101262</td>\n",
       "      <td>7.2500</td>\n",
       "      <td>NaN</td>\n",
       "      <td>S</td>\n",
       "    </tr>\n",
       "    <tr>\n",
       "      <th>416</th>\n",
       "      <td>1308</td>\n",
       "      <td>3</td>\n",
       "      <td>Ware, Mr. Frederick</td>\n",
       "      <td>male</td>\n",
       "      <td>NaN</td>\n",
       "      <td>0</td>\n",
       "      <td>0</td>\n",
       "      <td>359309</td>\n",
       "      <td>8.0500</td>\n",
       "      <td>NaN</td>\n",
       "      <td>S</td>\n",
       "    </tr>\n",
       "    <tr>\n",
       "      <th>417</th>\n",
       "      <td>1309</td>\n",
       "      <td>3</td>\n",
       "      <td>Peter, Master. Michael J</td>\n",
       "      <td>male</td>\n",
       "      <td>NaN</td>\n",
       "      <td>1</td>\n",
       "      <td>1</td>\n",
       "      <td>2668</td>\n",
       "      <td>22.3583</td>\n",
       "      <td>NaN</td>\n",
       "      <td>C</td>\n",
       "    </tr>\n",
       "  </tbody>\n",
       "</table>\n",
       "<p>418 rows × 11 columns</p>\n",
       "</div>"
      ],
      "text/plain": [
       "     PassengerId  Pclass                                          Name  \\\n",
       "0            892       3                              Kelly, Mr. James   \n",
       "1            893       3              Wilkes, Mrs. James (Ellen Needs)   \n",
       "2            894       2                     Myles, Mr. Thomas Francis   \n",
       "3            895       3                              Wirz, Mr. Albert   \n",
       "4            896       3  Hirvonen, Mrs. Alexander (Helga E Lindqvist)   \n",
       "..           ...     ...                                           ...   \n",
       "413         1305       3                            Spector, Mr. Woolf   \n",
       "414         1306       1                  Oliva y Ocana, Dona. Fermina   \n",
       "415         1307       3                  Saether, Mr. Simon Sivertsen   \n",
       "416         1308       3                           Ware, Mr. Frederick   \n",
       "417         1309       3                      Peter, Master. Michael J   \n",
       "\n",
       "        Sex   Age  SibSp  Parch              Ticket      Fare Cabin Embarked  \n",
       "0      male  34.5      0      0              330911    7.8292   NaN        Q  \n",
       "1    female  47.0      1      0              363272    7.0000   NaN        S  \n",
       "2      male  62.0      0      0              240276    9.6875   NaN        Q  \n",
       "3      male  27.0      0      0              315154    8.6625   NaN        S  \n",
       "4    female  22.0      1      1             3101298   12.2875   NaN        S  \n",
       "..      ...   ...    ...    ...                 ...       ...   ...      ...  \n",
       "413    male   NaN      0      0           A.5. 3236    8.0500   NaN        S  \n",
       "414  female  39.0      0      0            PC 17758  108.9000  C105        C  \n",
       "415    male  38.5      0      0  SOTON/O.Q. 3101262    7.2500   NaN        S  \n",
       "416    male   NaN      0      0              359309    8.0500   NaN        S  \n",
       "417    male   NaN      1      1                2668   22.3583   NaN        C  \n",
       "\n",
       "[418 rows x 11 columns]"
      ]
     },
     "execution_count": 4,
     "metadata": {},
     "output_type": "execute_result"
    }
   ],
   "source": [
    "test_df"
   ]
  },
  {
   "cell_type": "markdown",
   "id": "605c769d",
   "metadata": {},
   "source": [
    "### 2.查看数据信息"
   ]
  },
  {
   "cell_type": "code",
   "execution_count": 5,
   "id": "3fda0d51",
   "metadata": {},
   "outputs": [
    {
     "name": "stdout",
     "output_type": "stream",
     "text": [
      "<class 'pandas.core.frame.DataFrame'>\n",
      "RangeIndex: 891 entries, 0 to 890\n",
      "Data columns (total 12 columns):\n",
      " #   Column       Non-Null Count  Dtype  \n",
      "---  ------       --------------  -----  \n",
      " 0   PassengerId  891 non-null    int64  \n",
      " 1   Survived     891 non-null    int64  \n",
      " 2   Pclass       891 non-null    int64  \n",
      " 3   Name         891 non-null    object \n",
      " 4   Sex          891 non-null    object \n",
      " 5   Age          714 non-null    float64\n",
      " 6   SibSp        891 non-null    int64  \n",
      " 7   Parch        891 non-null    int64  \n",
      " 8   Ticket       891 non-null    object \n",
      " 9   Fare         891 non-null    float64\n",
      " 10  Cabin        204 non-null    object \n",
      " 11  Embarked     889 non-null    object \n",
      "dtypes: float64(2), int64(5), object(5)\n",
      "memory usage: 83.7+ KB\n"
     ]
    }
   ],
   "source": [
    "train_df.info()"
   ]
  },
  {
   "cell_type": "markdown",
   "id": "1f2b20ef",
   "metadata": {},
   "source": [
    "观察数据信息可以得知，在所有属性中，既有连续型的变量和离散型的变量。例如Age（年龄）和 Fare（票价）是float类型的连续型变量。Sex(性别）和Pclass（船票等级）等是离散型变量。"
   ]
  },
  {
   "cell_type": "markdown",
   "id": "78397123",
   "metadata": {},
   "source": [
    "### 3.去除无意义的特征（PassageId, Name, Ticke, Cabin)\n",
    "- 通过常识得知存活与否与乘客id，姓名、船票号相关性不大\n",
    "- Cabin这一列缺失值太多\n",
    "\n"
   ]
  },
  {
   "cell_type": "code",
   "execution_count": 6,
   "id": "2bc7a09a",
   "metadata": {},
   "outputs": [
    {
     "data": {
      "text/html": [
       "<div>\n",
       "<style scoped>\n",
       "    .dataframe tbody tr th:only-of-type {\n",
       "        vertical-align: middle;\n",
       "    }\n",
       "\n",
       "    .dataframe tbody tr th {\n",
       "        vertical-align: top;\n",
       "    }\n",
       "\n",
       "    .dataframe thead th {\n",
       "        text-align: right;\n",
       "    }\n",
       "</style>\n",
       "<table border=\"1\" class=\"dataframe\">\n",
       "  <thead>\n",
       "    <tr style=\"text-align: right;\">\n",
       "      <th></th>\n",
       "      <th>Survived</th>\n",
       "      <th>Pclass</th>\n",
       "      <th>Sex</th>\n",
       "      <th>Age</th>\n",
       "      <th>SibSp</th>\n",
       "      <th>Parch</th>\n",
       "      <th>Fare</th>\n",
       "      <th>Embarked</th>\n",
       "    </tr>\n",
       "  </thead>\n",
       "  <tbody>\n",
       "    <tr>\n",
       "      <th>0</th>\n",
       "      <td>0</td>\n",
       "      <td>3</td>\n",
       "      <td>male</td>\n",
       "      <td>22.0</td>\n",
       "      <td>1</td>\n",
       "      <td>0</td>\n",
       "      <td>7.2500</td>\n",
       "      <td>S</td>\n",
       "    </tr>\n",
       "    <tr>\n",
       "      <th>1</th>\n",
       "      <td>1</td>\n",
       "      <td>1</td>\n",
       "      <td>female</td>\n",
       "      <td>38.0</td>\n",
       "      <td>1</td>\n",
       "      <td>0</td>\n",
       "      <td>71.2833</td>\n",
       "      <td>C</td>\n",
       "    </tr>\n",
       "    <tr>\n",
       "      <th>2</th>\n",
       "      <td>1</td>\n",
       "      <td>3</td>\n",
       "      <td>female</td>\n",
       "      <td>26.0</td>\n",
       "      <td>0</td>\n",
       "      <td>0</td>\n",
       "      <td>7.9250</td>\n",
       "      <td>S</td>\n",
       "    </tr>\n",
       "    <tr>\n",
       "      <th>3</th>\n",
       "      <td>1</td>\n",
       "      <td>1</td>\n",
       "      <td>female</td>\n",
       "      <td>35.0</td>\n",
       "      <td>1</td>\n",
       "      <td>0</td>\n",
       "      <td>53.1000</td>\n",
       "      <td>S</td>\n",
       "    </tr>\n",
       "    <tr>\n",
       "      <th>4</th>\n",
       "      <td>0</td>\n",
       "      <td>3</td>\n",
       "      <td>male</td>\n",
       "      <td>35.0</td>\n",
       "      <td>0</td>\n",
       "      <td>0</td>\n",
       "      <td>8.0500</td>\n",
       "      <td>S</td>\n",
       "    </tr>\n",
       "    <tr>\n",
       "      <th>...</th>\n",
       "      <td>...</td>\n",
       "      <td>...</td>\n",
       "      <td>...</td>\n",
       "      <td>...</td>\n",
       "      <td>...</td>\n",
       "      <td>...</td>\n",
       "      <td>...</td>\n",
       "      <td>...</td>\n",
       "    </tr>\n",
       "    <tr>\n",
       "      <th>886</th>\n",
       "      <td>0</td>\n",
       "      <td>2</td>\n",
       "      <td>male</td>\n",
       "      <td>27.0</td>\n",
       "      <td>0</td>\n",
       "      <td>0</td>\n",
       "      <td>13.0000</td>\n",
       "      <td>S</td>\n",
       "    </tr>\n",
       "    <tr>\n",
       "      <th>887</th>\n",
       "      <td>1</td>\n",
       "      <td>1</td>\n",
       "      <td>female</td>\n",
       "      <td>19.0</td>\n",
       "      <td>0</td>\n",
       "      <td>0</td>\n",
       "      <td>30.0000</td>\n",
       "      <td>S</td>\n",
       "    </tr>\n",
       "    <tr>\n",
       "      <th>888</th>\n",
       "      <td>0</td>\n",
       "      <td>3</td>\n",
       "      <td>female</td>\n",
       "      <td>NaN</td>\n",
       "      <td>1</td>\n",
       "      <td>2</td>\n",
       "      <td>23.4500</td>\n",
       "      <td>S</td>\n",
       "    </tr>\n",
       "    <tr>\n",
       "      <th>889</th>\n",
       "      <td>1</td>\n",
       "      <td>1</td>\n",
       "      <td>male</td>\n",
       "      <td>26.0</td>\n",
       "      <td>0</td>\n",
       "      <td>0</td>\n",
       "      <td>30.0000</td>\n",
       "      <td>C</td>\n",
       "    </tr>\n",
       "    <tr>\n",
       "      <th>890</th>\n",
       "      <td>0</td>\n",
       "      <td>3</td>\n",
       "      <td>male</td>\n",
       "      <td>32.0</td>\n",
       "      <td>0</td>\n",
       "      <td>0</td>\n",
       "      <td>7.7500</td>\n",
       "      <td>Q</td>\n",
       "    </tr>\n",
       "  </tbody>\n",
       "</table>\n",
       "<p>891 rows × 8 columns</p>\n",
       "</div>"
      ],
      "text/plain": [
       "     Survived  Pclass     Sex   Age  SibSp  Parch     Fare Embarked\n",
       "0           0       3    male  22.0      1      0   7.2500        S\n",
       "1           1       1  female  38.0      1      0  71.2833        C\n",
       "2           1       3  female  26.0      0      0   7.9250        S\n",
       "3           1       1  female  35.0      1      0  53.1000        S\n",
       "4           0       3    male  35.0      0      0   8.0500        S\n",
       "..        ...     ...     ...   ...    ...    ...      ...      ...\n",
       "886         0       2    male  27.0      0      0  13.0000        S\n",
       "887         1       1  female  19.0      0      0  30.0000        S\n",
       "888         0       3  female   NaN      1      2  23.4500        S\n",
       "889         1       1    male  26.0      0      0  30.0000        C\n",
       "890         0       3    male  32.0      0      0   7.7500        Q\n",
       "\n",
       "[891 rows x 8 columns]"
      ]
     },
     "execution_count": 6,
     "metadata": {},
     "output_type": "execute_result"
    }
   ],
   "source": [
    "train_df=train_df.drop(labels=['PassengerId', 'Name', 'Ticket', 'Cabin'], axis=1)\n",
    "test_df=test_df.drop(labels=[ 'Name', 'Ticket', 'Cabin'], axis=1)\n",
    "train_df"
   ]
  },
  {
   "cell_type": "markdown",
   "id": "c5d62648",
   "metadata": {},
   "source": [
    "### 4.填补缺失值并将object类型数值转换成离散型数值"
   ]
  },
  {
   "cell_type": "code",
   "execution_count": 7,
   "id": "610da236",
   "metadata": {},
   "outputs": [
    {
     "name": "stdout",
     "output_type": "stream",
     "text": [
      "<class 'pandas.core.frame.DataFrame'>\n",
      "RangeIndex: 891 entries, 0 to 890\n",
      "Data columns (total 8 columns):\n",
      " #   Column    Non-Null Count  Dtype  \n",
      "---  ------    --------------  -----  \n",
      " 0   Survived  891 non-null    int64  \n",
      " 1   Pclass    891 non-null    int64  \n",
      " 2   Sex       891 non-null    int32  \n",
      " 3   Age       891 non-null    float64\n",
      " 4   SibSp     891 non-null    int64  \n",
      " 5   Parch     891 non-null    int64  \n",
      " 6   Fare      891 non-null    float64\n",
      " 7   Embarked  891 non-null    int32  \n",
      "dtypes: float64(2), int32(2), int64(4)\n",
      "memory usage: 48.9 KB\n"
     ]
    },
    {
     "data": {
      "text/html": [
       "<div>\n",
       "<style scoped>\n",
       "    .dataframe tbody tr th:only-of-type {\n",
       "        vertical-align: middle;\n",
       "    }\n",
       "\n",
       "    .dataframe tbody tr th {\n",
       "        vertical-align: top;\n",
       "    }\n",
       "\n",
       "    .dataframe thead th {\n",
       "        text-align: right;\n",
       "    }\n",
       "</style>\n",
       "<table border=\"1\" class=\"dataframe\">\n",
       "  <thead>\n",
       "    <tr style=\"text-align: right;\">\n",
       "      <th></th>\n",
       "      <th>Survived</th>\n",
       "      <th>Pclass</th>\n",
       "      <th>Sex</th>\n",
       "      <th>Age</th>\n",
       "      <th>SibSp</th>\n",
       "      <th>Parch</th>\n",
       "      <th>Fare</th>\n",
       "      <th>Embarked</th>\n",
       "    </tr>\n",
       "  </thead>\n",
       "  <tbody>\n",
       "    <tr>\n",
       "      <th>0</th>\n",
       "      <td>0</td>\n",
       "      <td>3</td>\n",
       "      <td>0</td>\n",
       "      <td>22.000000</td>\n",
       "      <td>1</td>\n",
       "      <td>0</td>\n",
       "      <td>7.2500</td>\n",
       "      <td>0</td>\n",
       "    </tr>\n",
       "    <tr>\n",
       "      <th>1</th>\n",
       "      <td>1</td>\n",
       "      <td>1</td>\n",
       "      <td>1</td>\n",
       "      <td>38.000000</td>\n",
       "      <td>1</td>\n",
       "      <td>0</td>\n",
       "      <td>71.2833</td>\n",
       "      <td>1</td>\n",
       "    </tr>\n",
       "    <tr>\n",
       "      <th>2</th>\n",
       "      <td>1</td>\n",
       "      <td>3</td>\n",
       "      <td>1</td>\n",
       "      <td>26.000000</td>\n",
       "      <td>0</td>\n",
       "      <td>0</td>\n",
       "      <td>7.9250</td>\n",
       "      <td>0</td>\n",
       "    </tr>\n",
       "    <tr>\n",
       "      <th>3</th>\n",
       "      <td>1</td>\n",
       "      <td>1</td>\n",
       "      <td>1</td>\n",
       "      <td>35.000000</td>\n",
       "      <td>1</td>\n",
       "      <td>0</td>\n",
       "      <td>53.1000</td>\n",
       "      <td>0</td>\n",
       "    </tr>\n",
       "    <tr>\n",
       "      <th>4</th>\n",
       "      <td>0</td>\n",
       "      <td>3</td>\n",
       "      <td>0</td>\n",
       "      <td>35.000000</td>\n",
       "      <td>0</td>\n",
       "      <td>0</td>\n",
       "      <td>8.0500</td>\n",
       "      <td>0</td>\n",
       "    </tr>\n",
       "    <tr>\n",
       "      <th>...</th>\n",
       "      <td>...</td>\n",
       "      <td>...</td>\n",
       "      <td>...</td>\n",
       "      <td>...</td>\n",
       "      <td>...</td>\n",
       "      <td>...</td>\n",
       "      <td>...</td>\n",
       "      <td>...</td>\n",
       "    </tr>\n",
       "    <tr>\n",
       "      <th>886</th>\n",
       "      <td>0</td>\n",
       "      <td>2</td>\n",
       "      <td>0</td>\n",
       "      <td>27.000000</td>\n",
       "      <td>0</td>\n",
       "      <td>0</td>\n",
       "      <td>13.0000</td>\n",
       "      <td>0</td>\n",
       "    </tr>\n",
       "    <tr>\n",
       "      <th>887</th>\n",
       "      <td>1</td>\n",
       "      <td>1</td>\n",
       "      <td>1</td>\n",
       "      <td>19.000000</td>\n",
       "      <td>0</td>\n",
       "      <td>0</td>\n",
       "      <td>30.0000</td>\n",
       "      <td>0</td>\n",
       "    </tr>\n",
       "    <tr>\n",
       "      <th>888</th>\n",
       "      <td>0</td>\n",
       "      <td>3</td>\n",
       "      <td>1</td>\n",
       "      <td>29.699118</td>\n",
       "      <td>1</td>\n",
       "      <td>2</td>\n",
       "      <td>23.4500</td>\n",
       "      <td>0</td>\n",
       "    </tr>\n",
       "    <tr>\n",
       "      <th>889</th>\n",
       "      <td>1</td>\n",
       "      <td>1</td>\n",
       "      <td>0</td>\n",
       "      <td>26.000000</td>\n",
       "      <td>0</td>\n",
       "      <td>0</td>\n",
       "      <td>30.0000</td>\n",
       "      <td>1</td>\n",
       "    </tr>\n",
       "    <tr>\n",
       "      <th>890</th>\n",
       "      <td>0</td>\n",
       "      <td>3</td>\n",
       "      <td>0</td>\n",
       "      <td>32.000000</td>\n",
       "      <td>0</td>\n",
       "      <td>0</td>\n",
       "      <td>7.7500</td>\n",
       "      <td>2</td>\n",
       "    </tr>\n",
       "  </tbody>\n",
       "</table>\n",
       "<p>891 rows × 8 columns</p>\n",
       "</div>"
      ],
      "text/plain": [
       "     Survived  Pclass  Sex        Age  SibSp  Parch     Fare  Embarked\n",
       "0           0       3    0  22.000000      1      0   7.2500         0\n",
       "1           1       1    1  38.000000      1      0  71.2833         1\n",
       "2           1       3    1  26.000000      0      0   7.9250         0\n",
       "3           1       1    1  35.000000      1      0  53.1000         0\n",
       "4           0       3    0  35.000000      0      0   8.0500         0\n",
       "..        ...     ...  ...        ...    ...    ...      ...       ...\n",
       "886         0       2    0  27.000000      0      0  13.0000         0\n",
       "887         1       1    1  19.000000      0      0  30.0000         0\n",
       "888         0       3    1  29.699118      1      2  23.4500         0\n",
       "889         1       1    0  26.000000      0      0  30.0000         1\n",
       "890         0       3    0  32.000000      0      0   7.7500         2\n",
       "\n",
       "[891 rows x 8 columns]"
      ]
     },
     "execution_count": 7,
     "metadata": {},
     "output_type": "execute_result"
    }
   ],
   "source": [
    "train_df = train_df.fillna(train_df.mean()['Age':'Fare'])  # 根据年龄的均值填补年龄的缺失值\n",
    "test_df = test_df.fillna(test_df.mean()['Age':'Fare'])  # 根据年龄的均值填补年龄的缺失值\n",
    "\n",
    "def Age_2_category(age_array):\n",
    "    \"\"\"\n",
    "    将age_array中的\"male\"替换成0,\"female\"替换成1\n",
    "    \"\"\"\n",
    "    age_array=np.array(age_array)\n",
    "    t_age_array=np.zeros_like(age_array)\n",
    "    t_age_array[age_array==\"male\"]=0\n",
    "    t_age_array[age_array==\"female\"]=1\n",
    "    return pd.DataFrame(t_age_array)\n",
    "\n",
    "def Embarked_2_category(embarked_array):\n",
    "    \"\"\"\n",
    "    将Embarked_2_category中\"S\"替换成0;\"C\"替换成1；\"Q\"替换成2\n",
    "    \"\"\"\n",
    "    embarked_array=np.array(embarked_array)\n",
    "    t_embarked_array=np.zeros_like(embarked_array)\n",
    "    t_embarked_array[embarked_array==\"S\"]=0\n",
    "    t_embarked_array[embarked_array==\"C\"]=1\n",
    "    t_embarked_array[embarked_array==\"Q\"]=2\n",
    "    return pd.DataFrame(t_embarked_array)\n",
    "train_df[\"Sex\"]=Age_2_category(train_df[\"Sex\"]).astype(int)\n",
    "train_df[\"Embarked\"]=Embarked_2_category(train_df[\"Embarked\"]).astype(int)\n",
    "train_df.info()\n",
    "train_df"
   ]
  },
  {
   "cell_type": "markdown",
   "id": "6242baab",
   "metadata": {},
   "source": [
    "#### 数据情况描述"
   ]
  },
  {
   "cell_type": "code",
   "execution_count": 8,
   "id": "0c4e4e27",
   "metadata": {},
   "outputs": [
    {
     "data": {
      "text/html": [
       "<style  type=\"text/css\" >\n",
       "#T_560e4_row0_col0,#T_560e4_row0_col1,#T_560e4_row0_col2,#T_560e4_row0_col3,#T_560e4_row0_col4,#T_560e4_row0_col5,#T_560e4_row0_col7,#T_560e4_row1_col0,#T_560e4_row2_col0,#T_560e4_row2_col1,#T_560e4_row2_col2,#T_560e4_row2_col3,#T_560e4_row2_col4,#T_560e4_row2_col5,#T_560e4_row2_col7,#T_560e4_row3_col0,#T_560e4_row4_col0,#T_560e4_row4_col3,#T_560e4_row4_col4,#T_560e4_row4_col5,#T_560e4_row5_col0,#T_560e4_row5_col1,#T_560e4_row5_col3,#T_560e4_row5_col4,#T_560e4_row5_col5,#T_560e4_row5_col6,#T_560e4_row6_col0,#T_560e4_row6_col3,#T_560e4_row7_col0,#T_560e4_row7_col1,#T_560e4_row7_col2,#T_560e4_row7_col3,#T_560e4_row7_col4,#T_560e4_row7_col5,#T_560e4_row7_col7{\n",
       "            background-color:  #ff0000;\n",
       "            color:  #f1f1f1;\n",
       "        }#T_560e4_row0_col6,#T_560e4_row2_col6,#T_560e4_row4_col6,#T_560e4_row7_col6{\n",
       "            background-color:  #3c69ff;\n",
       "            color:  #000000;\n",
       "        }#T_560e4_row1_col1{\n",
       "            background-color:  #bc0000;\n",
       "            color:  #f1f1f1;\n",
       "        }#T_560e4_row1_col2,#T_560e4_row1_col7,#T_560e4_row4_col1,#T_560e4_row5_col2{\n",
       "            background-color:  #ff6035;\n",
       "            color:  #000000;\n",
       "        }#T_560e4_row1_col3,#T_560e4_row3_col4,#T_560e4_row3_col5,#T_560e4_row3_col6,#T_560e4_row6_col1,#T_560e4_row6_col2,#T_560e4_row6_col7{\n",
       "            background-color:  #000000;\n",
       "            color:  #f1f1f1;\n",
       "        }#T_560e4_row1_col4{\n",
       "            background-color:  #497aff;\n",
       "            color:  #000000;\n",
       "        }#T_560e4_row1_col5{\n",
       "            background-color:  #0000dd;\n",
       "            color:  #f1f1f1;\n",
       "        }#T_560e4_row1_col6{\n",
       "            background-color:  #d9f4ff;\n",
       "            color:  #000000;\n",
       "        }#T_560e4_row3_col1{\n",
       "            background-color:  #0000fa;\n",
       "            color:  #f1f1f1;\n",
       "        }#T_560e4_row3_col2{\n",
       "            background-color:  #ff1805;\n",
       "            color:  #f1f1f1;\n",
       "        }#T_560e4_row3_col3{\n",
       "            background-color:  #000093;\n",
       "            color:  #f1f1f1;\n",
       "        }#T_560e4_row3_col7{\n",
       "            background-color:  #578aff;\n",
       "            color:  #000000;\n",
       "        }#T_560e4_row4_col2,#T_560e4_row4_col7{\n",
       "            background-color:  #ffeac6;\n",
       "            color:  #000000;\n",
       "        }#T_560e4_row5_col7{\n",
       "            background-color:  #ffb37e;\n",
       "            color:  #000000;\n",
       "        }#T_560e4_row6_col4{\n",
       "            background-color:  #00003c;\n",
       "            color:  #f1f1f1;\n",
       "        }#T_560e4_row6_col5{\n",
       "            background-color:  #000057;\n",
       "            color:  #f1f1f1;\n",
       "        }#T_560e4_row6_col6{\n",
       "            background-color:  #e00000;\n",
       "            color:  #f1f1f1;\n",
       "        }</style><table id=\"T_560e4_\" ><thead>    <tr>        <th class=\"blank level0\" ></th>        <th class=\"col_heading level0 col0\" >count</th>        <th class=\"col_heading level0 col1\" >mean</th>        <th class=\"col_heading level0 col2\" >std</th>        <th class=\"col_heading level0 col3\" >min</th>        <th class=\"col_heading level0 col4\" >25%</th>        <th class=\"col_heading level0 col5\" >50%</th>        <th class=\"col_heading level0 col6\" >75%</th>        <th class=\"col_heading level0 col7\" >max</th>    </tr></thead><tbody>\n",
       "                <tr>\n",
       "                        <th id=\"T_560e4_level0_row0\" class=\"row_heading level0 row0\" >Survived</th>\n",
       "                        <td id=\"T_560e4_row0_col0\" class=\"data row0 col0\" >891.000000</td>\n",
       "                        <td id=\"T_560e4_row0_col1\" class=\"data row0 col1\" >0.383838</td>\n",
       "                        <td id=\"T_560e4_row0_col2\" class=\"data row0 col2\" >0.486592</td>\n",
       "                        <td id=\"T_560e4_row0_col3\" class=\"data row0 col3\" >0.000000</td>\n",
       "                        <td id=\"T_560e4_row0_col4\" class=\"data row0 col4\" >0.000000</td>\n",
       "                        <td id=\"T_560e4_row0_col5\" class=\"data row0 col5\" >0.000000</td>\n",
       "                        <td id=\"T_560e4_row0_col6\" class=\"data row0 col6\" >1.000000</td>\n",
       "                        <td id=\"T_560e4_row0_col7\" class=\"data row0 col7\" >1.000000</td>\n",
       "            </tr>\n",
       "            <tr>\n",
       "                        <th id=\"T_560e4_level0_row1\" class=\"row_heading level0 row1\" >Pclass</th>\n",
       "                        <td id=\"T_560e4_row1_col0\" class=\"data row1 col0\" >891.000000</td>\n",
       "                        <td id=\"T_560e4_row1_col1\" class=\"data row1 col1\" >2.308642</td>\n",
       "                        <td id=\"T_560e4_row1_col2\" class=\"data row1 col2\" >0.836071</td>\n",
       "                        <td id=\"T_560e4_row1_col3\" class=\"data row1 col3\" >1.000000</td>\n",
       "                        <td id=\"T_560e4_row1_col4\" class=\"data row1 col4\" >2.000000</td>\n",
       "                        <td id=\"T_560e4_row1_col5\" class=\"data row1 col5\" >3.000000</td>\n",
       "                        <td id=\"T_560e4_row1_col6\" class=\"data row1 col6\" >3.000000</td>\n",
       "                        <td id=\"T_560e4_row1_col7\" class=\"data row1 col7\" >3.000000</td>\n",
       "            </tr>\n",
       "            <tr>\n",
       "                        <th id=\"T_560e4_level0_row2\" class=\"row_heading level0 row2\" >Sex</th>\n",
       "                        <td id=\"T_560e4_row2_col0\" class=\"data row2 col0\" >891.000000</td>\n",
       "                        <td id=\"T_560e4_row2_col1\" class=\"data row2 col1\" >0.352413</td>\n",
       "                        <td id=\"T_560e4_row2_col2\" class=\"data row2 col2\" >0.477990</td>\n",
       "                        <td id=\"T_560e4_row2_col3\" class=\"data row2 col3\" >0.000000</td>\n",
       "                        <td id=\"T_560e4_row2_col4\" class=\"data row2 col4\" >0.000000</td>\n",
       "                        <td id=\"T_560e4_row2_col5\" class=\"data row2 col5\" >0.000000</td>\n",
       "                        <td id=\"T_560e4_row2_col6\" class=\"data row2 col6\" >1.000000</td>\n",
       "                        <td id=\"T_560e4_row2_col7\" class=\"data row2 col7\" >1.000000</td>\n",
       "            </tr>\n",
       "            <tr>\n",
       "                        <th id=\"T_560e4_level0_row3\" class=\"row_heading level0 row3\" >Age</th>\n",
       "                        <td id=\"T_560e4_row3_col0\" class=\"data row3 col0\" >891.000000</td>\n",
       "                        <td id=\"T_560e4_row3_col1\" class=\"data row3 col1\" >29.699118</td>\n",
       "                        <td id=\"T_560e4_row3_col2\" class=\"data row3 col2\" >13.002015</td>\n",
       "                        <td id=\"T_560e4_row3_col3\" class=\"data row3 col3\" >0.420000</td>\n",
       "                        <td id=\"T_560e4_row3_col4\" class=\"data row3 col4\" >22.000000</td>\n",
       "                        <td id=\"T_560e4_row3_col5\" class=\"data row3 col5\" >29.699118</td>\n",
       "                        <td id=\"T_560e4_row3_col6\" class=\"data row3 col6\" >35.000000</td>\n",
       "                        <td id=\"T_560e4_row3_col7\" class=\"data row3 col7\" >80.000000</td>\n",
       "            </tr>\n",
       "            <tr>\n",
       "                        <th id=\"T_560e4_level0_row4\" class=\"row_heading level0 row4\" >SibSp</th>\n",
       "                        <td id=\"T_560e4_row4_col0\" class=\"data row4 col0\" >891.000000</td>\n",
       "                        <td id=\"T_560e4_row4_col1\" class=\"data row4 col1\" >0.523008</td>\n",
       "                        <td id=\"T_560e4_row4_col2\" class=\"data row4 col2\" >1.102743</td>\n",
       "                        <td id=\"T_560e4_row4_col3\" class=\"data row4 col3\" >0.000000</td>\n",
       "                        <td id=\"T_560e4_row4_col4\" class=\"data row4 col4\" >0.000000</td>\n",
       "                        <td id=\"T_560e4_row4_col5\" class=\"data row4 col5\" >0.000000</td>\n",
       "                        <td id=\"T_560e4_row4_col6\" class=\"data row4 col6\" >1.000000</td>\n",
       "                        <td id=\"T_560e4_row4_col7\" class=\"data row4 col7\" >8.000000</td>\n",
       "            </tr>\n",
       "            <tr>\n",
       "                        <th id=\"T_560e4_level0_row5\" class=\"row_heading level0 row5\" >Parch</th>\n",
       "                        <td id=\"T_560e4_row5_col0\" class=\"data row5 col0\" >891.000000</td>\n",
       "                        <td id=\"T_560e4_row5_col1\" class=\"data row5 col1\" >0.381594</td>\n",
       "                        <td id=\"T_560e4_row5_col2\" class=\"data row5 col2\" >0.806057</td>\n",
       "                        <td id=\"T_560e4_row5_col3\" class=\"data row5 col3\" >0.000000</td>\n",
       "                        <td id=\"T_560e4_row5_col4\" class=\"data row5 col4\" >0.000000</td>\n",
       "                        <td id=\"T_560e4_row5_col5\" class=\"data row5 col5\" >0.000000</td>\n",
       "                        <td id=\"T_560e4_row5_col6\" class=\"data row5 col6\" >0.000000</td>\n",
       "                        <td id=\"T_560e4_row5_col7\" class=\"data row5 col7\" >6.000000</td>\n",
       "            </tr>\n",
       "            <tr>\n",
       "                        <th id=\"T_560e4_level0_row6\" class=\"row_heading level0 row6\" >Fare</th>\n",
       "                        <td id=\"T_560e4_row6_col0\" class=\"data row6 col0\" >891.000000</td>\n",
       "                        <td id=\"T_560e4_row6_col1\" class=\"data row6 col1\" >32.204208</td>\n",
       "                        <td id=\"T_560e4_row6_col2\" class=\"data row6 col2\" >49.693429</td>\n",
       "                        <td id=\"T_560e4_row6_col3\" class=\"data row6 col3\" >0.000000</td>\n",
       "                        <td id=\"T_560e4_row6_col4\" class=\"data row6 col4\" >7.910400</td>\n",
       "                        <td id=\"T_560e4_row6_col5\" class=\"data row6 col5\" >14.454200</td>\n",
       "                        <td id=\"T_560e4_row6_col6\" class=\"data row6 col6\" >31.000000</td>\n",
       "                        <td id=\"T_560e4_row6_col7\" class=\"data row6 col7\" >512.329200</td>\n",
       "            </tr>\n",
       "            <tr>\n",
       "                        <th id=\"T_560e4_level0_row7\" class=\"row_heading level0 row7\" >Embarked</th>\n",
       "                        <td id=\"T_560e4_row7_col0\" class=\"data row7 col0\" >891.000000</td>\n",
       "                        <td id=\"T_560e4_row7_col1\" class=\"data row7 col1\" >0.361392</td>\n",
       "                        <td id=\"T_560e4_row7_col2\" class=\"data row7 col2\" >0.635673</td>\n",
       "                        <td id=\"T_560e4_row7_col3\" class=\"data row7 col3\" >0.000000</td>\n",
       "                        <td id=\"T_560e4_row7_col4\" class=\"data row7 col4\" >0.000000</td>\n",
       "                        <td id=\"T_560e4_row7_col5\" class=\"data row7 col5\" >0.000000</td>\n",
       "                        <td id=\"T_560e4_row7_col6\" class=\"data row7 col6\" >1.000000</td>\n",
       "                        <td id=\"T_560e4_row7_col7\" class=\"data row7 col7\" >2.000000</td>\n",
       "            </tr>\n",
       "    </tbody></table>"
      ],
      "text/plain": [
       "<pandas.io.formats.style.Styler at 0x23eaf8e1760>"
      ]
     },
     "execution_count": 8,
     "metadata": {},
     "output_type": "execute_result"
    }
   ],
   "source": [
    "train_df.describe().T.style.background_gradient(cmap='flag')"
   ]
  },
  {
   "cell_type": "markdown",
   "id": "0c3cd760",
   "metadata": {},
   "source": [
    "#### 协方差矩阵"
   ]
  },
  {
   "cell_type": "code",
   "execution_count": 9,
   "id": "2d2ccf32",
   "metadata": {},
   "outputs": [
    {
     "data": {
      "image/png": "[encoded data removed]",
      "text/plain": [
       "<Figure size 720x576 with 2 Axes>"
      ]
     },
     "metadata": {
      "needs_background": "light"
     },
     "output_type": "display_data"
    }
   ],
   "source": [
    "#heatmap\n",
    "plt.figure(figsize=(10, 8))\n",
    "sns.heatmap(train_df.corr(), annot=True, cmap='RdYlBu');"
   ]
  },
  {
   "cell_type": "markdown",
   "id": "ce6fce7a",
   "metadata": {},
   "source": [
    "## 二.计算部分\n",
    "初始化两个字典，将计算得到的先验和后验分别保存prior_dict和posterior_dict"
   ]
  },
  {
   "cell_type": "code",
   "execution_count": 10,
   "id": "7929799b",
   "metadata": {},
   "outputs": [],
   "source": [
    "prior_dict={}\n",
    "posterior_dict={}\n",
    "total_num=len(np.array(train_df))   ## 数据数量"
   ]
  },
  {
   "cell_type": "markdown",
   "id": "4a893077",
   "metadata": {},
   "source": [
    "### 离散型变量\n",
    "#### 1.Survived(存活情况)\n",
    "##### 需要计算出 $p(Survived)$ 以及 $ p(NotSurvived)$\n"
   ]
  },
  {
   "cell_type": "code",
   "execution_count": 11,
   "id": "ff6dacb3",
   "metadata": {},
   "outputs": [
    {
     "data": {
      "text/plain": [
       "0    549\n",
       "1    342\n",
       "Name: Survived, dtype: int64"
      ]
     },
     "execution_count": 11,
     "metadata": {},
     "output_type": "execute_result"
    },
    {
     "data": {
      "image/png": "[encoded data removed]",
      "text/plain": [
       "<Figure size 360x360 with 1 Axes>"
      ]
     },
     "metadata": {
      "needs_background": "light"
     },
     "output_type": "display_data"
    }
   ],
   "source": [
    "plt.figure(figsize=(5,5))\n",
    "sns.countplot(data=train_df,x='Survived')\n",
    "pd.value_counts(train_df[\"Survived\"])"
   ]
  },
  {
   "cell_type": "markdown",
   "id": "d85fed09",
   "metadata": {},
   "source": [
    "0代表未幸存 1代表存活\n",
    "所以:$$p(Survived)= 549/(549+342) $$\n",
    "$$p(NotSurvived)= 342/(549+342) $$"
   ]
  },
  {
   "cell_type": "code",
   "execution_count": 12,
   "id": "069922c5",
   "metadata": {},
   "outputs": [
    {
     "data": {
      "text/plain": [
       "{'NotSurvived': 0.6161616161616161, 'Survived': 0.3838383838383838}"
      ]
     },
     "execution_count": 12,
     "metadata": {},
     "output_type": "execute_result"
    }
   ],
   "source": [
    "prior_dict[\"NotSurvived\"]=549/(total_num)\n",
    "prior_dict[\"Survived\"]=342/(total_num)\n",
    "prior_dict"
   ]
  },
  {
   "cell_type": "code",
   "execution_count": null,
   "id": "25321c62",
   "metadata": {},
   "outputs": [],
   "source": []
  },
  {
   "cell_type": "code",
   "execution_count": null,
   "id": "2a89bc02",
   "metadata": {},
   "outputs": [],
   "source": []
  },
  {
   "cell_type": "markdown",
   "id": "b4db7160",
   "metadata": {},
   "source": [
    "### 2.Pclass(船票等级）\n",
    "#### 需要计算出先验概率$p(Pclass-1), p(Pclass-2),p(Pclass-3)$\n",
    "#### 需要计算出条件概率$p(Pclass-1|Survived), p(Pclass-2|Survived),p(Pclass-3|Survived)，p(Pclass-1|NotSurvived), p(Pclass-2|NotSurvived),p(Pclass-3|NotSurvived)$"
   ]
  },
  {
   "cell_type": "code",
   "execution_count": 13,
   "id": "832759e5",
   "metadata": {},
   "outputs": [
    {
     "data": {
      "text/plain": [
       "3    491\n",
       "1    216\n",
       "2    184\n",
       "Name: Pclass, dtype: int64"
      ]
     },
     "execution_count": 13,
     "metadata": {},
     "output_type": "execute_result"
    },
    {
     "data": {
      "image/png": "[encoded data removed]",
      "text/plain": [
       "<Figure size 360x360 with 1 Axes>"
      ]
     },
     "metadata": {
      "needs_background": "light"
     },
     "output_type": "display_data"
    }
   ],
   "source": [
    "plt.figure(figsize=(5,5))\n",
    "sns.countplot(data=train_df,x='Pclass')\n",
    "pd.value_counts(train_df[\"Pclass\"])"
   ]
  },
  {
   "cell_type": "code",
   "execution_count": 14,
   "id": "98a60502",
   "metadata": {},
   "outputs": [
    {
     "data": {
      "text/plain": [
       "{'NotSurvived': 0.6161616161616161,\n",
       " 'Survived': 0.3838383838383838,\n",
       " 'Pclass-1': 0.24242424242424243,\n",
       " 'Pclass-2': 0.20650953984287318,\n",
       " 'Pclass-3': 0.5510662177328844}"
      ]
     },
     "execution_count": 14,
     "metadata": {},
     "output_type": "execute_result"
    }
   ],
   "source": [
    "prior_dict[\"Pclass-1\"]=216/(total_num)\n",
    "prior_dict[\"Pclass-2\"]=184/(total_num)\n",
    "prior_dict[\"Pclass-3\"]=491/(total_num)\n",
    "prior_dict"
   ]
  },
  {
   "cell_type": "code",
   "execution_count": 15,
   "id": "c22088ae",
   "metadata": {},
   "outputs": [
    {
     "data": {
      "image/png": "[encoded data removed]",
      "text/plain": [
       "<Figure size 720x360 with 1 Axes>"
      ]
     },
     "metadata": {
      "needs_background": "light"
     },
     "output_type": "display_data"
    }
   ],
   "source": [
    "plt.figure(figsize=(10,5))\n",
    "sns.countplot(data=train_df,x='Survived',hue='Pclass',)\n",
    "plt.legend([\"Pclass-1\",\"Pclass-2\",\"Pclass-3\"])\n",
    "plt.show()"
   ]
  },
  {
   "cell_type": "code",
   "execution_count": 16,
   "id": "7af5313c",
   "metadata": {},
   "outputs": [
    {
     "data": {
      "text/html": [
       "<div>\n",
       "<style scoped>\n",
       "    .dataframe tbody tr th:only-of-type {\n",
       "        vertical-align: middle;\n",
       "    }\n",
       "\n",
       "    .dataframe tbody tr th {\n",
       "        vertical-align: top;\n",
       "    }\n",
       "\n",
       "    .dataframe thead th {\n",
       "        text-align: right;\n",
       "    }\n",
       "</style>\n",
       "<table border=\"1\" class=\"dataframe\">\n",
       "  <thead>\n",
       "    <tr style=\"text-align: right;\">\n",
       "      <th>Pclass</th>\n",
       "      <th>1</th>\n",
       "      <th>2</th>\n",
       "      <th>3</th>\n",
       "      <th>All</th>\n",
       "    </tr>\n",
       "    <tr>\n",
       "      <th>Survived</th>\n",
       "      <th></th>\n",
       "      <th></th>\n",
       "      <th></th>\n",
       "      <th></th>\n",
       "    </tr>\n",
       "  </thead>\n",
       "  <tbody>\n",
       "    <tr>\n",
       "      <th>0</th>\n",
       "      <td>80</td>\n",
       "      <td>97</td>\n",
       "      <td>372</td>\n",
       "      <td>549</td>\n",
       "    </tr>\n",
       "    <tr>\n",
       "      <th>1</th>\n",
       "      <td>136</td>\n",
       "      <td>87</td>\n",
       "      <td>119</td>\n",
       "      <td>342</td>\n",
       "    </tr>\n",
       "    <tr>\n",
       "      <th>All</th>\n",
       "      <td>216</td>\n",
       "      <td>184</td>\n",
       "      <td>491</td>\n",
       "      <td>891</td>\n",
       "    </tr>\n",
       "  </tbody>\n",
       "</table>\n",
       "</div>"
      ],
      "text/plain": [
       "Pclass      1    2    3  All\n",
       "Survived                    \n",
       "0          80   97  372  549\n",
       "1         136   87  119  342\n",
       "All       216  184  491  891"
      ]
     },
     "execution_count": 16,
     "metadata": {},
     "output_type": "execute_result"
    }
   ],
   "source": [
    "Pclass_Survived_Tab=pd.crosstab(train_df[\"Survived\"],train_df[\"Pclass\"],margins = True)\n",
    "Pclass_Survived_Tab"
   ]
  },
  {
   "cell_type": "code",
   "execution_count": 17,
   "id": "e5905450",
   "metadata": {},
   "outputs": [
    {
     "data": {
      "text/plain": [
       "{'Pclass-1|NotSurvived': 0.14571948998178508,\n",
       " 'Pclass-2|NotSurvived': 0.1766848816029144,\n",
       " 'Pclass-3|NotSurvived': 0.6775956284153005,\n",
       " 'Pclass-1|Survived': 0.39766081871345027,\n",
       " 'Pclass-2|Survived': 0.2543859649122807,\n",
       " 'Pclass-3|Survived': 0.347953216374269}"
      ]
     },
     "execution_count": 17,
     "metadata": {},
     "output_type": "execute_result"
    }
   ],
   "source": [
    "posterior_dict[\"Pclass-1|NotSurvived\"]=Pclass_Survived_Tab[1][0]/Pclass_Survived_Tab[\"All\"][0]\n",
    "posterior_dict[\"Pclass-2|NotSurvived\"]=Pclass_Survived_Tab[2][0]/Pclass_Survived_Tab[\"All\"][0]\n",
    "posterior_dict[\"Pclass-3|NotSurvived\"]=Pclass_Survived_Tab[3][0]/Pclass_Survived_Tab[\"All\"][0]\n",
    "posterior_dict[\"Pclass-1|Survived\"]=Pclass_Survived_Tab[1][1]/Pclass_Survived_Tab[\"All\"][1]\n",
    "posterior_dict[\"Pclass-2|Survived\"]=Pclass_Survived_Tab[2][1]/Pclass_Survived_Tab[\"All\"][1]\n",
    "posterior_dict[\"Pclass-3|Survived\"]=Pclass_Survived_Tab[3][1]/Pclass_Survived_Tab[\"All\"][1]\n",
    "posterior_dict"
   ]
  },
  {
   "cell_type": "markdown",
   "id": "010007d6",
   "metadata": {},
   "source": [
    "### 2.Sex(性别）\n",
    "#### 需要计算出先验概率$p(female), p(male)$\n",
    "#### 需要计算出条件概率$p(female|Survived), p(male|Survived)，p(female|NotSurvived), p(male|NotSurvived)$"
   ]
  },
  {
   "cell_type": "code",
   "execution_count": 18,
   "id": "46d9c61c",
   "metadata": {},
   "outputs": [
    {
     "data": {
      "text/plain": [
       "0    577\n",
       "1    314\n",
       "Name: Sex, dtype: int64"
      ]
     },
     "execution_count": 18,
     "metadata": {},
     "output_type": "execute_result"
    },
    {
     "data": {
      "image/png": "[encoded data removed]",
      "text/plain": [
       "<Figure size 360x360 with 1 Axes>"
      ]
     },
     "metadata": {
      "needs_background": "light"
     },
     "output_type": "display_data"
    }
   ],
   "source": [
    "#\"male\"替换成0,\"female\"替换成1\n",
    "plt.figure(figsize=(5,5))\n",
    "sns.countplot(data=train_df,x='Sex')\n",
    "Sex_tab=pd.value_counts(train_df[\"Sex\"])\n",
    "Sex_tab"
   ]
  },
  {
   "cell_type": "markdown",
   "id": "ecde9bc7",
   "metadata": {},
   "source": [
    "0代表男性 1代表女性"
   ]
  },
  {
   "cell_type": "code",
   "execution_count": 19,
   "id": "e79da710",
   "metadata": {},
   "outputs": [
    {
     "data": {
      "text/plain": [
       "{'NotSurvived': 0.6161616161616161,\n",
       " 'Survived': 0.3838383838383838,\n",
       " 'Pclass-1': 0.24242424242424243,\n",
       " 'Pclass-2': 0.20650953984287318,\n",
       " 'Pclass-3': 0.5510662177328844,\n",
       " 'female': 0.35241301907968575,\n",
       " 'male': 0.6475869809203143}"
      ]
     },
     "execution_count": 19,
     "metadata": {},
     "output_type": "execute_result"
    }
   ],
   "source": [
    "prior_dict[\"female\"]=Sex_tab[1]/(total_num)\n",
    "prior_dict[\"male\"]=Sex_tab[0]/(total_num)\n",
    "prior_dict"
   ]
  },
  {
   "cell_type": "code",
   "execution_count": 20,
   "id": "05e9e877",
   "metadata": {},
   "outputs": [
    {
     "data": {
      "image/png": "[encoded data removed]",
      "text/plain": [
       "<Figure size 576x360 with 1 Axes>"
      ]
     },
     "metadata": {
      "needs_background": "light"
     },
     "output_type": "display_data"
    }
   ],
   "source": [
    "plt.figure(figsize=(8,5))\n",
    "sns.countplot(data=train_df,x='Survived',hue='Sex',)\n",
    "plt.legend([\"male\",\"female\"])\n",
    "plt.show()"
   ]
  },
  {
   "cell_type": "code",
   "execution_count": 21,
   "id": "6a2eb1af",
   "metadata": {},
   "outputs": [
    {
     "data": {
      "text/html": [
       "<div>\n",
       "<style scoped>\n",
       "    .dataframe tbody tr th:only-of-type {\n",
       "        vertical-align: middle;\n",
       "    }\n",
       "\n",
       "    .dataframe tbody tr th {\n",
       "        vertical-align: top;\n",
       "    }\n",
       "\n",
       "    .dataframe thead th {\n",
       "        text-align: right;\n",
       "    }\n",
       "</style>\n",
       "<table border=\"1\" class=\"dataframe\">\n",
       "  <thead>\n",
       "    <tr style=\"text-align: right;\">\n",
       "      <th>Sex</th>\n",
       "      <th>0</th>\n",
       "      <th>1</th>\n",
       "      <th>All</th>\n",
       "    </tr>\n",
       "    <tr>\n",
       "      <th>Survived</th>\n",
       "      <th></th>\n",
       "      <th></th>\n",
       "      <th></th>\n",
       "    </tr>\n",
       "  </thead>\n",
       "  <tbody>\n",
       "    <tr>\n",
       "      <th>0</th>\n",
       "      <td>468</td>\n",
       "      <td>81</td>\n",
       "      <td>549</td>\n",
       "    </tr>\n",
       "    <tr>\n",
       "      <th>1</th>\n",
       "      <td>109</td>\n",
       "      <td>233</td>\n",
       "      <td>342</td>\n",
       "    </tr>\n",
       "    <tr>\n",
       "      <th>All</th>\n",
       "      <td>577</td>\n",
       "      <td>314</td>\n",
       "      <td>891</td>\n",
       "    </tr>\n",
       "  </tbody>\n",
       "</table>\n",
       "</div>"
      ],
      "text/plain": [
       "Sex         0    1  All\n",
       "Survived               \n",
       "0         468   81  549\n",
       "1         109  233  342\n",
       "All       577  314  891"
      ]
     },
     "execution_count": 21,
     "metadata": {},
     "output_type": "execute_result"
    }
   ],
   "source": [
    "Sex_Survived_Tab=pd.crosstab(train_df[\"Survived\"],train_df[\"Sex\"],margins = True)\n",
    "Sex_Survived_Tab"
   ]
  },
  {
   "cell_type": "code",
   "execution_count": 22,
   "id": "b36d54af",
   "metadata": {},
   "outputs": [
    {
     "data": {
      "text/plain": [
       "{'Pclass-1|NotSurvived': 0.14571948998178508,\n",
       " 'Pclass-2|NotSurvived': 0.1766848816029144,\n",
       " 'Pclass-3|NotSurvived': 0.6775956284153005,\n",
       " 'Pclass-1|Survived': 0.39766081871345027,\n",
       " 'Pclass-2|Survived': 0.2543859649122807,\n",
       " 'Pclass-3|Survived': 0.347953216374269,\n",
       " 'male|NotSurvived': 0.8524590163934426,\n",
       " 'female|NotSurvived': 0.14754098360655737,\n",
       " 'male|Survived': 0.31871345029239767,\n",
       " 'female|Survived': 0.6812865497076024}"
      ]
     },
     "execution_count": 22,
     "metadata": {},
     "output_type": "execute_result"
    }
   ],
   "source": [
    "posterior_dict[\"male|NotSurvived\"]=Sex_Survived_Tab[0][0]/Sex_Survived_Tab[\"All\"][0]\n",
    "posterior_dict[\"female|NotSurvived\"]=Sex_Survived_Tab[1][0]/Sex_Survived_Tab[\"All\"][0]\n",
    "posterior_dict[\"male|Survived\"]=Sex_Survived_Tab[0][1]/Sex_Survived_Tab[\"All\"][1]\n",
    "posterior_dict[\"female|Survived\"]=Sex_Survived_Tab[1][1]/Sex_Survived_Tab[\"All\"][1]\n",
    "posterior_dict"
   ]
  },
  {
   "cell_type": "markdown",
   "id": "841784e4",
   "metadata": {},
   "source": [
    "### 3.SibSp(兄弟姐妹以及配偶在船数量）\n",
    "#### 需要计算出先验概率$p(SibSp-0), p(SibSp-1),p(SibSp-2),p(SibSp-3),p(SibSp-4),p(SibSp-5),p(SibSp-8)$\n",
    "#### 需要计算出条件概率$p(SibSp-0|Survived), p(SibSp-1|Survived),p(SibSp-2|Survived),p(SibSp-3|Survived),p(SibSp-4|Survived),p(SibSp-5|Survived),p(SibSp-8|Survived)$以及$p(SibSp-0|NotSurvived), p(SibSp-1|NotSurvived),p(SibSp-2|NotSurvived),p(SibSp-3|NotSurvived),p(SibSp-4|NotSurvived),p(SibSp-5|NotSurvived),p(SibSp-8|NotSurvived)$\n"
   ]
  },
  {
   "cell_type": "code",
   "execution_count": 23,
   "id": "a483d8c0",
   "metadata": {},
   "outputs": [
    {
     "data": {
      "text/plain": [
       "0    608\n",
       "1    209\n",
       "2     28\n",
       "4     18\n",
       "3     16\n",
       "8      7\n",
       "5      5\n",
       "Name: SibSp, dtype: int64"
      ]
     },
     "execution_count": 23,
     "metadata": {},
     "output_type": "execute_result"
    },
    {
     "data": {
      "image/png": "[encoded data removed]",
      "text/plain": [
       "<Figure size 360x360 with 1 Axes>"
      ]
     },
     "metadata": {
      "needs_background": "light"
     },
     "output_type": "display_data"
    }
   ],
   "source": [
    "plt.figure(figsize=(5,5))\n",
    "sns.countplot(data=train_df,x='SibSp')\n",
    "Sibsp_tab=pd.value_counts(train_df[\"SibSp\"])\n",
    "Sibsp_tab"
   ]
  },
  {
   "cell_type": "code",
   "execution_count": 24,
   "id": "59863b20",
   "metadata": {},
   "outputs": [
    {
     "data": {
      "text/plain": [
       "{'NotSurvived': 0.6161616161616161,\n",
       " 'Survived': 0.3838383838383838,\n",
       " 'Pclass-1': 0.24242424242424243,\n",
       " 'Pclass-2': 0.20650953984287318,\n",
       " 'Pclass-3': 0.5510662177328844,\n",
       " 'female': 0.35241301907968575,\n",
       " 'male': 0.6475869809203143,\n",
       " 'SibSp-0': 0.6823793490460157,\n",
       " 'SibSp-1': 0.2345679012345679,\n",
       " 'SibSp-2': 0.031425364758698095,\n",
       " 'SibSp-3': 0.017957351290684626,\n",
       " 'SibSp-4': 0.020202020202020204,\n",
       " 'SibSp-5': 0.005611672278338945,\n",
       " 'SibSp-8': 0.007856341189674524}"
      ]
     },
     "execution_count": 24,
     "metadata": {},
     "output_type": "execute_result"
    }
   ],
   "source": [
    "for i in [0,1,2,3,4,5,8]:\n",
    "    prior_dict[\"SibSp-{}\".format(i)]=Sibsp_tab[i]/(total_num)\n",
    "prior_dict"
   ]
  },
  {
   "cell_type": "code",
   "execution_count": 25,
   "id": "47aa86b1",
   "metadata": {},
   "outputs": [
    {
     "data": {
      "image/png": "[encoded data removed]",
      "text/plain": [
       "<Figure size 576x360 with 1 Axes>"
      ]
     },
     "metadata": {
      "needs_background": "light"
     },
     "output_type": "display_data"
    }
   ],
   "source": [
    "plt.figure(figsize=(8,5))\n",
    "sns.countplot(data=train_df,x='Survived',hue='SibSp')\n",
    "plt.legend([\"0\",\"1\",\"2\",\"3\",\"4\",\"5\",\"8\"])\n",
    "plt.show()\n"
   ]
  },
  {
   "cell_type": "code",
   "execution_count": 26,
   "id": "3383746d",
   "metadata": {},
   "outputs": [
    {
     "data": {
      "text/html": [
       "<div>\n",
       "<style scoped>\n",
       "    .dataframe tbody tr th:only-of-type {\n",
       "        vertical-align: middle;\n",
       "    }\n",
       "\n",
       "    .dataframe tbody tr th {\n",
       "        vertical-align: top;\n",
       "    }\n",
       "\n",
       "    .dataframe thead th {\n",
       "        text-align: right;\n",
       "    }\n",
       "</style>\n",
       "<table border=\"1\" class=\"dataframe\">\n",
       "  <thead>\n",
       "    <tr style=\"text-align: right;\">\n",
       "      <th>SibSp</th>\n",
       "      <th>0</th>\n",
       "      <th>1</th>\n",
       "      <th>2</th>\n",
       "      <th>3</th>\n",
       "      <th>4</th>\n",
       "      <th>5</th>\n",
       "      <th>8</th>\n",
       "      <th>All</th>\n",
       "    </tr>\n",
       "    <tr>\n",
       "      <th>Survived</th>\n",
       "      <th></th>\n",
       "      <th></th>\n",
       "      <th></th>\n",
       "      <th></th>\n",
       "      <th></th>\n",
       "      <th></th>\n",
       "      <th></th>\n",
       "      <th></th>\n",
       "    </tr>\n",
       "  </thead>\n",
       "  <tbody>\n",
       "    <tr>\n",
       "      <th>0</th>\n",
       "      <td>398</td>\n",
       "      <td>97</td>\n",
       "      <td>15</td>\n",
       "      <td>12</td>\n",
       "      <td>15</td>\n",
       "      <td>5</td>\n",
       "      <td>7</td>\n",
       "      <td>549</td>\n",
       "    </tr>\n",
       "    <tr>\n",
       "      <th>1</th>\n",
       "      <td>210</td>\n",
       "      <td>112</td>\n",
       "      <td>13</td>\n",
       "      <td>4</td>\n",
       "      <td>3</td>\n",
       "      <td>0</td>\n",
       "      <td>0</td>\n",
       "      <td>342</td>\n",
       "    </tr>\n",
       "    <tr>\n",
       "      <th>All</th>\n",
       "      <td>608</td>\n",
       "      <td>209</td>\n",
       "      <td>28</td>\n",
       "      <td>16</td>\n",
       "      <td>18</td>\n",
       "      <td>5</td>\n",
       "      <td>7</td>\n",
       "      <td>891</td>\n",
       "    </tr>\n",
       "  </tbody>\n",
       "</table>\n",
       "</div>"
      ],
      "text/plain": [
       "SibSp       0    1   2   3   4  5  8  All\n",
       "Survived                                 \n",
       "0         398   97  15  12  15  5  7  549\n",
       "1         210  112  13   4   3  0  0  342\n",
       "All       608  209  28  16  18  5  7  891"
      ]
     },
     "execution_count": 26,
     "metadata": {},
     "output_type": "execute_result"
    }
   ],
   "source": [
    "SibSp_Survived_Tab=pd.crosstab(train_df[\"Survived\"],train_df[\"SibSp\"],margins = True)\n",
    "SibSp_Survived_Tab"
   ]
  },
  {
   "cell_type": "code",
   "execution_count": 27,
   "id": "cd53ed8f",
   "metadata": {},
   "outputs": [
    {
     "data": {
      "text/plain": [
       "{'Pclass-1|NotSurvived': 0.14571948998178508,\n",
       " 'Pclass-2|NotSurvived': 0.1766848816029144,\n",
       " 'Pclass-3|NotSurvived': 0.6775956284153005,\n",
       " 'Pclass-1|Survived': 0.39766081871345027,\n",
       " 'Pclass-2|Survived': 0.2543859649122807,\n",
       " 'Pclass-3|Survived': 0.347953216374269,\n",
       " 'male|NotSurvived': 0.8524590163934426,\n",
       " 'female|NotSurvived': 0.14754098360655737,\n",
       " 'male|Survived': 0.31871345029239767,\n",
       " 'female|Survived': 0.6812865497076024,\n",
       " 'SibSp-0|NotSurvived': 0.7249544626593807,\n",
       " 'SibSp-1|NotSurvived': 0.1766848816029144,\n",
       " 'SibSp-2|NotSurvived': 0.0273224043715847,\n",
       " 'SibSp-3|NotSurvived': 0.02185792349726776,\n",
       " 'SibSp-4|NotSurvived': 0.0273224043715847,\n",
       " 'SibSp-5|NotSurvived': 0.009107468123861567,\n",
       " 'SibSp-8|NotSurvived': 0.012750455373406194,\n",
       " 'SibSp-0|Survived': 0.6140350877192983,\n",
       " 'SibSp-1|Survived': 0.32748538011695905,\n",
       " 'SibSp-2|Survived': 0.038011695906432746,\n",
       " 'SibSp-3|Survived': 0.011695906432748537,\n",
       " 'SibSp-4|Survived': 0.008771929824561403,\n",
       " 'SibSp-5|Survived': 0.0,\n",
       " 'SibSp-8|Survived': 0.0}"
      ]
     },
     "execution_count": 27,
     "metadata": {},
     "output_type": "execute_result"
    }
   ],
   "source": [
    "for i in [0,1,2,3,4,5,8]:\n",
    "    posterior_dict[\"SibSp-{}|NotSurvived\".format(i)]=SibSp_Survived_Tab[i][0]/SibSp_Survived_Tab[\"All\"][0]\n",
    "for i in [0,1,2,3,4,5,8]:\n",
    "    posterior_dict[\"SibSp-{}|Survived\".format(i)]=SibSp_Survived_Tab[i][1]/SibSp_Survived_Tab[\"All\"][1]\n",
    "posterior_dict"
   ]
  },
  {
   "cell_type": "markdown",
   "id": "d3d879df",
   "metadata": {},
   "source": [
    "### 4.Parch(父母/子女在船数量）\n",
    "#### 需要计算出先验概率$p(Parch-0),p(Parch-1),p(Parch-2),p(Parch-3),p(Parch-4),p(Parch-5),p(Parch-6)$\n",
    "#### 需要计算出条件概率$p(Parch-0||NotSurvived),p(Parch-1|NotSurvived),p(Parch-2|NotSurvived),p(Parch-3|NotSurvived),p(Parch-4|NotSurvived),p(Parch-5|NotSurvived),p(Parch-6|NotSurvived)$以及$p(Parch-0||Survived),p(Parch-1|Survived),p(Parch-2|Survived),p(Parch-3|Survived),p(Parch-4|Survived),p(Parch-5|Survived),p(Parch-6|Survived)$\n"
   ]
  },
  {
   "cell_type": "code",
   "execution_count": 28,
   "id": "87ff5ed9",
   "metadata": {},
   "outputs": [
    {
     "data": {
      "text/plain": [
       "0    324\n",
       "1     52\n",
       "2     33\n",
       "3      3\n",
       "4      2\n",
       "9      2\n",
       "5      1\n",
       "6      1\n",
       "Name: Parch, dtype: int64"
      ]
     },
     "execution_count": 28,
     "metadata": {},
     "output_type": "execute_result"
    },
    {
     "data": {
      "image/png": "[encoded data removed]",
      "text/plain": [
       "<Figure size 360x360 with 1 Axes>"
      ]
     },
     "metadata": {
      "needs_background": "light"
     },
     "output_type": "display_data"
    },
    {
     "data": {
      "image/png": "[encoded data removed]",
      "text/plain": [
       "<Figure size 360x360 with 1 Axes>"
      ]
     },
     "metadata": {
      "needs_background": "light"
     },
     "output_type": "display_data"
    }
   ],
   "source": [
    "plt.figure(figsize=(5,5))\n",
    "sns.countplot(data=train_df,x='Parch')\n",
    "Parch_tab=pd.value_counts(train_df[\"Parch\"])\n",
    "Parch_tab\n",
    "plt.figure(figsize=(5,5))\n",
    "sns.countplot(data=test_df,x='Parch')\n",
    "Parch_tab=pd.value_counts(test_df[\"Parch\"])\n",
    "Parch_tab"
   ]
  },
  {
   "cell_type": "code",
   "execution_count": 29,
   "id": "ae1a7ee6",
   "metadata": {},
   "outputs": [
    {
     "data": {
      "text/plain": [
       "{'NotSurvived': 0.6161616161616161,\n",
       " 'Survived': 0.3838383838383838,\n",
       " 'Pclass-1': 0.24242424242424243,\n",
       " 'Pclass-2': 0.20650953984287318,\n",
       " 'Pclass-3': 0.5510662177328844,\n",
       " 'female': 0.35241301907968575,\n",
       " 'male': 0.6475869809203143,\n",
       " 'SibSp-0': 0.6823793490460157,\n",
       " 'SibSp-1': 0.2345679012345679,\n",
       " 'SibSp-2': 0.031425364758698095,\n",
       " 'SibSp-3': 0.017957351290684626,\n",
       " 'SibSp-4': 0.020202020202020204,\n",
       " 'SibSp-5': 0.005611672278338945,\n",
       " 'SibSp-8': 0.007856341189674524,\n",
       " 'Parch-0': 0.36363636363636365,\n",
       " 'Parch-1': 0.058361391694725026,\n",
       " 'Parch-2': 0.037037037037037035,\n",
       " 'Parch-3': 0.003367003367003367,\n",
       " 'Parch-4': 0.002244668911335578,\n",
       " 'Parch-5': 0.001122334455667789,\n",
       " 'Parch-6': 0.001122334455667789}"
      ]
     },
     "execution_count": 29,
     "metadata": {},
     "output_type": "execute_result"
    }
   ],
   "source": [
    "for i in [0,1,2,3,4,5,6]:\n",
    "    prior_dict[\"Parch-{}\".format(i)]=Parch_tab[i]/(total_num)\n",
    "prior_dict"
   ]
  },
  {
   "cell_type": "code",
   "execution_count": 30,
   "id": "04646a73",
   "metadata": {},
   "outputs": [
    {
     "data": {
      "image/png": "[encoded data removed]",
      "text/plain": [
       "<Figure size 576x360 with 1 Axes>"
      ]
     },
     "metadata": {
      "needs_background": "light"
     },
     "output_type": "display_data"
    }
   ],
   "source": [
    "plt.figure(figsize=(8,5))\n",
    "sns.countplot(data=train_df,x='Survived',hue='Parch')\n",
    "plt.legend([\"0\",\"1\",\"2\",\"3\",\"4\",\"5\",\"6\"])\n",
    "plt.show()"
   ]
  },
  {
   "cell_type": "code",
   "execution_count": 31,
   "id": "d0b45869",
   "metadata": {},
   "outputs": [
    {
     "data": {
      "text/html": [
       "<div>\n",
       "<style scoped>\n",
       "    .dataframe tbody tr th:only-of-type {\n",
       "        vertical-align: middle;\n",
       "    }\n",
       "\n",
       "    .dataframe tbody tr th {\n",
       "        vertical-align: top;\n",
       "    }\n",
       "\n",
       "    .dataframe thead th {\n",
       "        text-align: right;\n",
       "    }\n",
       "</style>\n",
       "<table border=\"1\" class=\"dataframe\">\n",
       "  <thead>\n",
       "    <tr style=\"text-align: right;\">\n",
       "      <th>Parch</th>\n",
       "      <th>0</th>\n",
       "      <th>1</th>\n",
       "      <th>2</th>\n",
       "      <th>3</th>\n",
       "      <th>4</th>\n",
       "      <th>5</th>\n",
       "      <th>6</th>\n",
       "      <th>All</th>\n",
       "    </tr>\n",
       "    <tr>\n",
       "      <th>Survived</th>\n",
       "      <th></th>\n",
       "      <th></th>\n",
       "      <th></th>\n",
       "      <th></th>\n",
       "      <th></th>\n",
       "      <th></th>\n",
       "      <th></th>\n",
       "      <th></th>\n",
       "    </tr>\n",
       "  </thead>\n",
       "  <tbody>\n",
       "    <tr>\n",
       "      <th>0</th>\n",
       "      <td>445</td>\n",
       "      <td>53</td>\n",
       "      <td>40</td>\n",
       "      <td>2</td>\n",
       "      <td>4</td>\n",
       "      <td>4</td>\n",
       "      <td>1</td>\n",
       "      <td>549</td>\n",
       "    </tr>\n",
       "    <tr>\n",
       "      <th>1</th>\n",
       "      <td>233</td>\n",
       "      <td>65</td>\n",
       "      <td>40</td>\n",
       "      <td>3</td>\n",
       "      <td>0</td>\n",
       "      <td>1</td>\n",
       "      <td>0</td>\n",
       "      <td>342</td>\n",
       "    </tr>\n",
       "    <tr>\n",
       "      <th>All</th>\n",
       "      <td>678</td>\n",
       "      <td>118</td>\n",
       "      <td>80</td>\n",
       "      <td>5</td>\n",
       "      <td>4</td>\n",
       "      <td>5</td>\n",
       "      <td>1</td>\n",
       "      <td>891</td>\n",
       "    </tr>\n",
       "  </tbody>\n",
       "</table>\n",
       "</div>"
      ],
      "text/plain": [
       "Parch       0    1   2  3  4  5  6  All\n",
       "Survived                               \n",
       "0         445   53  40  2  4  4  1  549\n",
       "1         233   65  40  3  0  1  0  342\n",
       "All       678  118  80  5  4  5  1  891"
      ]
     },
     "execution_count": 31,
     "metadata": {},
     "output_type": "execute_result"
    }
   ],
   "source": [
    "Parch_Survived_Tab=pd.crosstab(train_df[\"Survived\"],train_df[\"Parch\"],margins = True)\n",
    "Parch_Survived_Tab"
   ]
  },
  {
   "cell_type": "code",
   "execution_count": 32,
   "id": "61bc11b7",
   "metadata": {},
   "outputs": [
    {
     "data": {
      "text/plain": [
       "{'Pclass-1|NotSurvived': 0.14571948998178508,\n",
       " 'Pclass-2|NotSurvived': 0.1766848816029144,\n",
       " 'Pclass-3|NotSurvived': 0.6775956284153005,\n",
       " 'Pclass-1|Survived': 0.39766081871345027,\n",
       " 'Pclass-2|Survived': 0.2543859649122807,\n",
       " 'Pclass-3|Survived': 0.347953216374269,\n",
       " 'male|NotSurvived': 0.8524590163934426,\n",
       " 'female|NotSurvived': 0.14754098360655737,\n",
       " 'male|Survived': 0.31871345029239767,\n",
       " 'female|Survived': 0.6812865497076024,\n",
       " 'SibSp-0|NotSurvived': 0.7249544626593807,\n",
       " 'SibSp-1|NotSurvived': 0.1766848816029144,\n",
       " 'SibSp-2|NotSurvived': 0.0273224043715847,\n",
       " 'SibSp-3|NotSurvived': 0.02185792349726776,\n",
       " 'SibSp-4|NotSurvived': 0.0273224043715847,\n",
       " 'SibSp-5|NotSurvived': 0.009107468123861567,\n",
       " 'SibSp-8|NotSurvived': 0.012750455373406194,\n",
       " 'SibSp-0|Survived': 0.6140350877192983,\n",
       " 'SibSp-1|Survived': 0.32748538011695905,\n",
       " 'SibSp-2|Survived': 0.038011695906432746,\n",
       " 'SibSp-3|Survived': 0.011695906432748537,\n",
       " 'SibSp-4|Survived': 0.008771929824561403,\n",
       " 'SibSp-5|Survived': 0.0,\n",
       " 'SibSp-8|Survived': 0.0,\n",
       " 'Parch-0|NotSurvived': 0.8105646630236795,\n",
       " 'Parch-1|NotSurvived': 0.0965391621129326,\n",
       " 'Parch-2|NotSurvived': 0.07285974499089254,\n",
       " 'Parch-3|NotSurvived': 0.0036429872495446266,\n",
       " 'Parch-4|NotSurvived': 0.007285974499089253,\n",
       " 'Parch-5|NotSurvived': 0.007285974499089253,\n",
       " 'Parch-6|NotSurvived': 0.0018214936247723133,\n",
       " 'Parch-0|Survived': 0.6812865497076024,\n",
       " 'Parch-1|Survived': 0.19005847953216373,\n",
       " 'Parch-2|Survived': 0.11695906432748537,\n",
       " 'Parch-3|Survived': 0.008771929824561403,\n",
       " 'Parch-4|Survived': 0.0,\n",
       " 'Parch-5|Survived': 0.0029239766081871343,\n",
       " 'Parch-6|Survived': 0.0}"
      ]
     },
     "execution_count": 32,
     "metadata": {},
     "output_type": "execute_result"
    }
   ],
   "source": [
    "for i in [0,1,2,3,4,5,6]:\n",
    "    posterior_dict[\"Parch-{}|NotSurvived\".format(i)]=Parch_Survived_Tab[i][0]/Parch_Survived_Tab[\"All\"][0]\n",
    "for i in [0,1,2,3,4,5,6]:\n",
    "    posterior_dict[\"Parch-{}|Survived\".format(i)]=Parch_Survived_Tab[i][1]/Parch_Survived_Tab[\"All\"][1]\n",
    "posterior_dict"
   ]
  },
  {
   "cell_type": "markdown",
   "id": "4d5a46f4",
   "metadata": {},
   "source": [
    "### 5.Embarked(乘客登船地点）\n",
    "#### Embarked_2_category中\"S\"替换成0;\"C\"替换成1；\"Q\"替换成2\n",
    "#### C = Cherbourg, Q = Queenstown, S = Southampton\n",
    "#### 需要计算出先验概率$p(Embarked-0), p(Embarked-1)，p(Embarked-2)$\n",
    "#### 需要计算出条件概率$p(Embarked-0|Survived), p(Embarked-1|Survived)，p(Embarked-2|Survived)$以及$p(Embarked-0|NotSurvived), p(Embarked-1|NotSurvived)，p(Embarked-2|NotSurvived)$\n"
   ]
  },
  {
   "cell_type": "code",
   "execution_count": 33,
   "id": "b16fbb52",
   "metadata": {},
   "outputs": [
    {
     "data": {
      "text/plain": [
       "0    646\n",
       "1    168\n",
       "2     77\n",
       "Name: Embarked, dtype: int64"
      ]
     },
     "execution_count": 33,
     "metadata": {},
     "output_type": "execute_result"
    },
    {
     "data": {
      "image/png": "[encoded data removed]",
      "text/plain": [
       "<Figure size 360x360 with 1 Axes>"
      ]
     },
     "metadata": {
      "needs_background": "light"
     },
     "output_type": "display_data"
    }
   ],
   "source": [
    "plt.figure(figsize=(5,5))\n",
    "sns.countplot(data=train_df,x='Embarked')\n",
    "Embarked_tab=pd.value_counts(train_df[\"Embarked\"])\n",
    "Embarked_tab"
   ]
  },
  {
   "cell_type": "code",
   "execution_count": 34,
   "id": "a807e001",
   "metadata": {},
   "outputs": [
    {
     "data": {
      "text/plain": [
       "<matplotlib.legend.Legend at 0x23eb52fb340>"
      ]
     },
     "execution_count": 34,
     "metadata": {},
     "output_type": "execute_result"
    },
    {
     "data": {
      "image/png": "[encoded data removed]",
      "text/plain": [
       "<Figure size 576x360 with 1 Axes>"
      ]
     },
     "metadata": {
      "needs_background": "light"
     },
     "output_type": "display_data"
    }
   ],
   "source": [
    "plt.figure(figsize=(8,5))\n",
    "sns.countplot(data=train_df,x='Survived',hue='Embarked')\n",
    "plt.legend([\"0\",\"1\",\"2\"])"
   ]
  },
  {
   "cell_type": "code",
   "execution_count": 35,
   "id": "e4532690",
   "metadata": {},
   "outputs": [
    {
     "data": {
      "text/plain": [
       "{'NotSurvived': 0.6161616161616161,\n",
       " 'Survived': 0.3838383838383838,\n",
       " 'Pclass-1': 0.24242424242424243,\n",
       " 'Pclass-2': 0.20650953984287318,\n",
       " 'Pclass-3': 0.5510662177328844,\n",
       " 'female': 0.35241301907968575,\n",
       " 'male': 0.6475869809203143,\n",
       " 'SibSp-0': 0.6823793490460157,\n",
       " 'SibSp-1': 0.2345679012345679,\n",
       " 'SibSp-2': 0.031425364758698095,\n",
       " 'SibSp-3': 0.017957351290684626,\n",
       " 'SibSp-4': 0.020202020202020204,\n",
       " 'SibSp-5': 0.005611672278338945,\n",
       " 'SibSp-8': 0.007856341189674524,\n",
       " 'Parch-0': 0.36363636363636365,\n",
       " 'Parch-1': 0.058361391694725026,\n",
       " 'Parch-2': 0.037037037037037035,\n",
       " 'Parch-3': 0.003367003367003367,\n",
       " 'Parch-4': 0.002244668911335578,\n",
       " 'Parch-5': 0.001122334455667789,\n",
       " 'Parch-6': 0.001122334455667789,\n",
       " 'Embarked-0': 0.7250280583613917,\n",
       " 'Embarked-1': 0.18855218855218855,\n",
       " 'Embarked-2': 0.08641975308641975}"
      ]
     },
     "execution_count": 35,
     "metadata": {},
     "output_type": "execute_result"
    }
   ],
   "source": [
    "for i in [0,1,2]:\n",
    "    prior_dict[\"Embarked-{}\".format(i)]=Embarked_tab[i]/(total_num)\n",
    "prior_dict"
   ]
  },
  {
   "cell_type": "code",
   "execution_count": 36,
   "id": "bfadde37",
   "metadata": {},
   "outputs": [
    {
     "data": {
      "text/html": [
       "<div>\n",
       "<style scoped>\n",
       "    .dataframe tbody tr th:only-of-type {\n",
       "        vertical-align: middle;\n",
       "    }\n",
       "\n",
       "    .dataframe tbody tr th {\n",
       "        vertical-align: top;\n",
       "    }\n",
       "\n",
       "    .dataframe thead th {\n",
       "        text-align: right;\n",
       "    }\n",
       "</style>\n",
       "<table border=\"1\" class=\"dataframe\">\n",
       "  <thead>\n",
       "    <tr style=\"text-align: right;\">\n",
       "      <th>Embarked</th>\n",
       "      <th>0</th>\n",
       "      <th>1</th>\n",
       "      <th>2</th>\n",
       "      <th>All</th>\n",
       "    </tr>\n",
       "    <tr>\n",
       "      <th>Survived</th>\n",
       "      <th></th>\n",
       "      <th></th>\n",
       "      <th></th>\n",
       "      <th></th>\n",
       "    </tr>\n",
       "  </thead>\n",
       "  <tbody>\n",
       "    <tr>\n",
       "      <th>0</th>\n",
       "      <td>427</td>\n",
       "      <td>75</td>\n",
       "      <td>47</td>\n",
       "      <td>549</td>\n",
       "    </tr>\n",
       "    <tr>\n",
       "      <th>1</th>\n",
       "      <td>219</td>\n",
       "      <td>93</td>\n",
       "      <td>30</td>\n",
       "      <td>342</td>\n",
       "    </tr>\n",
       "    <tr>\n",
       "      <th>All</th>\n",
       "      <td>646</td>\n",
       "      <td>168</td>\n",
       "      <td>77</td>\n",
       "      <td>891</td>\n",
       "    </tr>\n",
       "  </tbody>\n",
       "</table>\n",
       "</div>"
      ],
      "text/plain": [
       "Embarked    0    1   2  All\n",
       "Survived                   \n",
       "0         427   75  47  549\n",
       "1         219   93  30  342\n",
       "All       646  168  77  891"
      ]
     },
     "execution_count": 36,
     "metadata": {},
     "output_type": "execute_result"
    }
   ],
   "source": [
    "Embarked_Survived_Tab=pd.crosstab(train_df[\"Survived\"],train_df[\"Embarked\"],margins = True)\n",
    "Embarked_Survived_Tab"
   ]
  },
  {
   "cell_type": "code",
   "execution_count": 37,
   "id": "2105251c",
   "metadata": {},
   "outputs": [
    {
     "data": {
      "text/plain": [
       "{'Pclass-1|NotSurvived': 0.14571948998178508,\n",
       " 'Pclass-2|NotSurvived': 0.1766848816029144,\n",
       " 'Pclass-3|NotSurvived': 0.6775956284153005,\n",
       " 'Pclass-1|Survived': 0.39766081871345027,\n",
       " 'Pclass-2|Survived': 0.2543859649122807,\n",
       " 'Pclass-3|Survived': 0.347953216374269,\n",
       " 'male|NotSurvived': 0.8524590163934426,\n",
       " 'female|NotSurvived': 0.14754098360655737,\n",
       " 'male|Survived': 0.31871345029239767,\n",
       " 'female|Survived': 0.6812865497076024,\n",
       " 'SibSp-0|NotSurvived': 0.7249544626593807,\n",
       " 'SibSp-1|NotSurvived': 0.1766848816029144,\n",
       " 'SibSp-2|NotSurvived': 0.0273224043715847,\n",
       " 'SibSp-3|NotSurvived': 0.02185792349726776,\n",
       " 'SibSp-4|NotSurvived': 0.0273224043715847,\n",
       " 'SibSp-5|NotSurvived': 0.009107468123861567,\n",
       " 'SibSp-8|NotSurvived': 0.012750455373406194,\n",
       " 'SibSp-0|Survived': 0.6140350877192983,\n",
       " 'SibSp-1|Survived': 0.32748538011695905,\n",
       " 'SibSp-2|Survived': 0.038011695906432746,\n",
       " 'SibSp-3|Survived': 0.011695906432748537,\n",
       " 'SibSp-4|Survived': 0.008771929824561403,\n",
       " 'SibSp-5|Survived': 0.0,\n",
       " 'SibSp-8|Survived': 0.0,\n",
       " 'Parch-0|NotSurvived': 0.8105646630236795,\n",
       " 'Parch-1|NotSurvived': 0.0965391621129326,\n",
       " 'Parch-2|NotSurvived': 0.07285974499089254,\n",
       " 'Parch-3|NotSurvived': 0.0036429872495446266,\n",
       " 'Parch-4|NotSurvived': 0.007285974499089253,\n",
       " 'Parch-5|NotSurvived': 0.007285974499089253,\n",
       " 'Parch-6|NotSurvived': 0.0018214936247723133,\n",
       " 'Parch-0|Survived': 0.6812865497076024,\n",
       " 'Parch-1|Survived': 0.19005847953216373,\n",
       " 'Parch-2|Survived': 0.11695906432748537,\n",
       " 'Parch-3|Survived': 0.008771929824561403,\n",
       " 'Parch-4|Survived': 0.0,\n",
       " 'Parch-5|Survived': 0.0029239766081871343,\n",
       " 'Parch-6|Survived': 0.0,\n",
       " 'Embarked-0|NotSurvived': 0.7777777777777778,\n",
       " 'Embarked-1|NotSurvived': 0.1366120218579235,\n",
       " 'Embarked-2|NotSurvived': 0.08561020036429873,\n",
       " 'Embarked-0|Survived': 0.6403508771929824,\n",
       " 'Embarked-1|Survived': 0.2719298245614035,\n",
       " 'Embarked-2|Survived': 0.08771929824561403}"
      ]
     },
     "execution_count": 37,
     "metadata": {},
     "output_type": "execute_result"
    }
   ],
   "source": [
    "for i in [0,1,2]:\n",
    "    posterior_dict[\"Embarked-{}|NotSurvived\".format(i)]=Embarked_Survived_Tab[i][0]/Embarked_Survived_Tab[\"All\"][0]\n",
    "for i in [0,1,2]:\n",
    "    posterior_dict[\"Embarked-{}|Survived\".format(i)]=Embarked_Survived_Tab[i][1]/Embarked_Survived_Tab[\"All\"][1]\n",
    "posterior_dict"
   ]
  },
  {
   "cell_type": "markdown",
   "id": "7bc7adc5",
   "metadata": {},
   "source": [
    "### 连续型变量"
   ]
  },
  {
   "cell_type": "code",
   "execution_count": 38,
   "id": "e8f7c153",
   "metadata": {},
   "outputs": [
    {
     "data": {
      "text/html": [
       "<style  type=\"text/css\" >\n",
       "#T_b0ba9_row0_col0,#T_b0ba9_row0_col1,#T_b0ba9_row0_col2,#T_b0ba9_row0_col3,#T_b0ba9_row0_col4,#T_b0ba9_row0_col5,#T_b0ba9_row0_col7,#T_b0ba9_row1_col0,#T_b0ba9_row2_col0,#T_b0ba9_row2_col1,#T_b0ba9_row2_col2,#T_b0ba9_row2_col3,#T_b0ba9_row2_col4,#T_b0ba9_row2_col5,#T_b0ba9_row2_col7,#T_b0ba9_row3_col0,#T_b0ba9_row4_col0,#T_b0ba9_row4_col3,#T_b0ba9_row4_col4,#T_b0ba9_row4_col5,#T_b0ba9_row5_col0,#T_b0ba9_row5_col1,#T_b0ba9_row5_col3,#T_b0ba9_row5_col4,#T_b0ba9_row5_col5,#T_b0ba9_row5_col6,#T_b0ba9_row6_col0,#T_b0ba9_row6_col3,#T_b0ba9_row7_col0,#T_b0ba9_row7_col1,#T_b0ba9_row7_col2,#T_b0ba9_row7_col3,#T_b0ba9_row7_col4,#T_b0ba9_row7_col5,#T_b0ba9_row7_col7{\n",
       "            background-color:  #ff0000;\n",
       "            color:  #f1f1f1;\n",
       "        }#T_b0ba9_row0_col6,#T_b0ba9_row2_col6,#T_b0ba9_row4_col6,#T_b0ba9_row7_col6{\n",
       "            background-color:  #3c69ff;\n",
       "            color:  #000000;\n",
       "        }#T_b0ba9_row1_col1{\n",
       "            background-color:  #bc0000;\n",
       "            color:  #f1f1f1;\n",
       "        }#T_b0ba9_row1_col2,#T_b0ba9_row1_col7,#T_b0ba9_row4_col1,#T_b0ba9_row5_col2{\n",
       "            background-color:  #ff6035;\n",
       "            color:  #000000;\n",
       "        }#T_b0ba9_row1_col3,#T_b0ba9_row3_col4,#T_b0ba9_row3_col5,#T_b0ba9_row3_col6,#T_b0ba9_row6_col1,#T_b0ba9_row6_col2,#T_b0ba9_row6_col7{\n",
       "            background-color:  #000000;\n",
       "            color:  #f1f1f1;\n",
       "        }#T_b0ba9_row1_col4{\n",
       "            background-color:  #497aff;\n",
       "            color:  #000000;\n",
       "        }#T_b0ba9_row1_col5{\n",
       "            background-color:  #0000dd;\n",
       "            color:  #f1f1f1;\n",
       "        }#T_b0ba9_row1_col6{\n",
       "            background-color:  #d9f4ff;\n",
       "            color:  #000000;\n",
       "        }#T_b0ba9_row3_col1{\n",
       "            background-color:  #0000fa;\n",
       "            color:  #f1f1f1;\n",
       "        }#T_b0ba9_row3_col2{\n",
       "            background-color:  #ff1805;\n",
       "            color:  #f1f1f1;\n",
       "        }#T_b0ba9_row3_col3{\n",
       "            background-color:  #000093;\n",
       "            color:  #f1f1f1;\n",
       "        }#T_b0ba9_row3_col7{\n",
       "            background-color:  #578aff;\n",
       "            color:  #000000;\n",
       "        }#T_b0ba9_row4_col2,#T_b0ba9_row4_col7{\n",
       "            background-color:  #ffeac6;\n",
       "            color:  #000000;\n",
       "        }#T_b0ba9_row5_col7{\n",
       "            background-color:  #ffb37e;\n",
       "            color:  #000000;\n",
       "        }#T_b0ba9_row6_col4{\n",
       "            background-color:  #00003c;\n",
       "            color:  #f1f1f1;\n",
       "        }#T_b0ba9_row6_col5{\n",
       "            background-color:  #000057;\n",
       "            color:  #f1f1f1;\n",
       "        }#T_b0ba9_row6_col6{\n",
       "            background-color:  #e00000;\n",
       "            color:  #f1f1f1;\n",
       "        }</style><table id=\"T_b0ba9_\" ><thead>    <tr>        <th class=\"blank level0\" ></th>        <th class=\"col_heading level0 col0\" >count</th>        <th class=\"col_heading level0 col1\" >mean</th>        <th class=\"col_heading level0 col2\" >std</th>        <th class=\"col_heading level0 col3\" >min</th>        <th class=\"col_heading level0 col4\" >25%</th>        <th class=\"col_heading level0 col5\" >50%</th>        <th class=\"col_heading level0 col6\" >75%</th>        <th class=\"col_heading level0 col7\" >max</th>    </tr></thead><tbody>\n",
       "                <tr>\n",
       "                        <th id=\"T_b0ba9_level0_row0\" class=\"row_heading level0 row0\" >Survived</th>\n",
       "                        <td id=\"T_b0ba9_row0_col0\" class=\"data row0 col0\" >891.000000</td>\n",
       "                        <td id=\"T_b0ba9_row0_col1\" class=\"data row0 col1\" >0.383838</td>\n",
       "                        <td id=\"T_b0ba9_row0_col2\" class=\"data row0 col2\" >0.486592</td>\n",
       "                        <td id=\"T_b0ba9_row0_col3\" class=\"data row0 col3\" >0.000000</td>\n",
       "                        <td id=\"T_b0ba9_row0_col4\" class=\"data row0 col4\" >0.000000</td>\n",
       "                        <td id=\"T_b0ba9_row0_col5\" class=\"data row0 col5\" >0.000000</td>\n",
       "                        <td id=\"T_b0ba9_row0_col6\" class=\"data row0 col6\" >1.000000</td>\n",
       "                        <td id=\"T_b0ba9_row0_col7\" class=\"data row0 col7\" >1.000000</td>\n",
       "            </tr>\n",
       "            <tr>\n",
       "                        <th id=\"T_b0ba9_level0_row1\" class=\"row_heading level0 row1\" >Pclass</th>\n",
       "                        <td id=\"T_b0ba9_row1_col0\" class=\"data row1 col0\" >891.000000</td>\n",
       "                        <td id=\"T_b0ba9_row1_col1\" class=\"data row1 col1\" >2.308642</td>\n",
       "                        <td id=\"T_b0ba9_row1_col2\" class=\"data row1 col2\" >0.836071</td>\n",
       "                        <td id=\"T_b0ba9_row1_col3\" class=\"data row1 col3\" >1.000000</td>\n",
       "                        <td id=\"T_b0ba9_row1_col4\" class=\"data row1 col4\" >2.000000</td>\n",
       "                        <td id=\"T_b0ba9_row1_col5\" class=\"data row1 col5\" >3.000000</td>\n",
       "                        <td id=\"T_b0ba9_row1_col6\" class=\"data row1 col6\" >3.000000</td>\n",
       "                        <td id=\"T_b0ba9_row1_col7\" class=\"data row1 col7\" >3.000000</td>\n",
       "            </tr>\n",
       "            <tr>\n",
       "                        <th id=\"T_b0ba9_level0_row2\" class=\"row_heading level0 row2\" >Sex</th>\n",
       "                        <td id=\"T_b0ba9_row2_col0\" class=\"data row2 col0\" >891.000000</td>\n",
       "                        <td id=\"T_b0ba9_row2_col1\" class=\"data row2 col1\" >0.352413</td>\n",
       "                        <td id=\"T_b0ba9_row2_col2\" class=\"data row2 col2\" >0.477990</td>\n",
       "                        <td id=\"T_b0ba9_row2_col3\" class=\"data row2 col3\" >0.000000</td>\n",
       "                        <td id=\"T_b0ba9_row2_col4\" class=\"data row2 col4\" >0.000000</td>\n",
       "                        <td id=\"T_b0ba9_row2_col5\" class=\"data row2 col5\" >0.000000</td>\n",
       "                        <td id=\"T_b0ba9_row2_col6\" class=\"data row2 col6\" >1.000000</td>\n",
       "                        <td id=\"T_b0ba9_row2_col7\" class=\"data row2 col7\" >1.000000</td>\n",
       "            </tr>\n",
       "            <tr>\n",
       "                        <th id=\"T_b0ba9_level0_row3\" class=\"row_heading level0 row3\" >Age</th>\n",
       "                        <td id=\"T_b0ba9_row3_col0\" class=\"data row3 col0\" >891.000000</td>\n",
       "                        <td id=\"T_b0ba9_row3_col1\" class=\"data row3 col1\" >29.699118</td>\n",
       "                        <td id=\"T_b0ba9_row3_col2\" class=\"data row3 col2\" >13.002015</td>\n",
       "                        <td id=\"T_b0ba9_row3_col3\" class=\"data row3 col3\" >0.420000</td>\n",
       "                        <td id=\"T_b0ba9_row3_col4\" class=\"data row3 col4\" >22.000000</td>\n",
       "                        <td id=\"T_b0ba9_row3_col5\" class=\"data row3 col5\" >29.699118</td>\n",
       "                        <td id=\"T_b0ba9_row3_col6\" class=\"data row3 col6\" >35.000000</td>\n",
       "                        <td id=\"T_b0ba9_row3_col7\" class=\"data row3 col7\" >80.000000</td>\n",
       "            </tr>\n",
       "            <tr>\n",
       "                        <th id=\"T_b0ba9_level0_row4\" class=\"row_heading level0 row4\" >SibSp</th>\n",
       "                        <td id=\"T_b0ba9_row4_col0\" class=\"data row4 col0\" >891.000000</td>\n",
       "                        <td id=\"T_b0ba9_row4_col1\" class=\"data row4 col1\" >0.523008</td>\n",
       "                        <td id=\"T_b0ba9_row4_col2\" class=\"data row4 col2\" >1.102743</td>\n",
       "                        <td id=\"T_b0ba9_row4_col3\" class=\"data row4 col3\" >0.000000</td>\n",
       "                        <td id=\"T_b0ba9_row4_col4\" class=\"data row4 col4\" >0.000000</td>\n",
       "                        <td id=\"T_b0ba9_row4_col5\" class=\"data row4 col5\" >0.000000</td>\n",
       "                        <td id=\"T_b0ba9_row4_col6\" class=\"data row4 col6\" >1.000000</td>\n",
       "                        <td id=\"T_b0ba9_row4_col7\" class=\"data row4 col7\" >8.000000</td>\n",
       "            </tr>\n",
       "            <tr>\n",
       "                        <th id=\"T_b0ba9_level0_row5\" class=\"row_heading level0 row5\" >Parch</th>\n",
       "                        <td id=\"T_b0ba9_row5_col0\" class=\"data row5 col0\" >891.000000</td>\n",
       "                        <td id=\"T_b0ba9_row5_col1\" class=\"data row5 col1\" >0.381594</td>\n",
       "                        <td id=\"T_b0ba9_row5_col2\" class=\"data row5 col2\" >0.806057</td>\n",
       "                        <td id=\"T_b0ba9_row5_col3\" class=\"data row5 col3\" >0.000000</td>\n",
       "                        <td id=\"T_b0ba9_row5_col4\" class=\"data row5 col4\" >0.000000</td>\n",
       "                        <td id=\"T_b0ba9_row5_col5\" class=\"data row5 col5\" >0.000000</td>\n",
       "                        <td id=\"T_b0ba9_row5_col6\" class=\"data row5 col6\" >0.000000</td>\n",
       "                        <td id=\"T_b0ba9_row5_col7\" class=\"data row5 col7\" >6.000000</td>\n",
       "            </tr>\n",
       "            <tr>\n",
       "                        <th id=\"T_b0ba9_level0_row6\" class=\"row_heading level0 row6\" >Fare</th>\n",
       "                        <td id=\"T_b0ba9_row6_col0\" class=\"data row6 col0\" >891.000000</td>\n",
       "                        <td id=\"T_b0ba9_row6_col1\" class=\"data row6 col1\" >32.204208</td>\n",
       "                        <td id=\"T_b0ba9_row6_col2\" class=\"data row6 col2\" >49.693429</td>\n",
       "                        <td id=\"T_b0ba9_row6_col3\" class=\"data row6 col3\" >0.000000</td>\n",
       "                        <td id=\"T_b0ba9_row6_col4\" class=\"data row6 col4\" >7.910400</td>\n",
       "                        <td id=\"T_b0ba9_row6_col5\" class=\"data row6 col5\" >14.454200</td>\n",
       "                        <td id=\"T_b0ba9_row6_col6\" class=\"data row6 col6\" >31.000000</td>\n",
       "                        <td id=\"T_b0ba9_row6_col7\" class=\"data row6 col7\" >512.329200</td>\n",
       "            </tr>\n",
       "            <tr>\n",
       "                        <th id=\"T_b0ba9_level0_row7\" class=\"row_heading level0 row7\" >Embarked</th>\n",
       "                        <td id=\"T_b0ba9_row7_col0\" class=\"data row7 col0\" >891.000000</td>\n",
       "                        <td id=\"T_b0ba9_row7_col1\" class=\"data row7 col1\" >0.361392</td>\n",
       "                        <td id=\"T_b0ba9_row7_col2\" class=\"data row7 col2\" >0.635673</td>\n",
       "                        <td id=\"T_b0ba9_row7_col3\" class=\"data row7 col3\" >0.000000</td>\n",
       "                        <td id=\"T_b0ba9_row7_col4\" class=\"data row7 col4\" >0.000000</td>\n",
       "                        <td id=\"T_b0ba9_row7_col5\" class=\"data row7 col5\" >0.000000</td>\n",
       "                        <td id=\"T_b0ba9_row7_col6\" class=\"data row7 col6\" >1.000000</td>\n",
       "                        <td id=\"T_b0ba9_row7_col7\" class=\"data row7 col7\" >2.000000</td>\n",
       "            </tr>\n",
       "    </tbody></table>"
      ],
      "text/plain": [
       "<pandas.io.formats.style.Styler at 0x23eb54ed460>"
      ]
     },
     "execution_count": 38,
     "metadata": {},
     "output_type": "execute_result"
    }
   ],
   "source": [
    "train_df.describe().T.style.background_gradient(cmap='flag')"
   ]
  },
  {
   "cell_type": "markdown",
   "id": "a837d6bc",
   "metadata": {},
   "source": [
    "#### 1.Age（年龄） \n",
    "查表得年龄均值为29.699118，标准差13.002015"
   ]
  },
  {
   "cell_type": "code",
   "execution_count": 39,
   "id": "6c1256a9",
   "metadata": {},
   "outputs": [
    {
     "data": {
      "text/plain": [
       "Text(0, 0.5, 'Probability')"
      ]
     },
     "execution_count": 39,
     "metadata": {},
     "output_type": "execute_result"
    },
    {
     "data": {
      "image/png": "[encoded data removed]",
      "text/plain": [
       "<Figure size 432x288 with 1 Axes>"
      ]
     },
     "metadata": {
      "needs_background": "light"
     },
     "output_type": "display_data"
    }
   ],
   "source": [
    "import scipy.stats\n",
    "Age_pdf=scipy.stats.norm(0, 1)\n",
    "Age_mean=29.699118\n",
    "Age_std=13.002015\n",
    "Age_pdf=scipy.stats.norm(Age_mean,Age_std)\n",
    "x = np.linspace(0,80,100)\n",
    "plt.plot(x,Age_pdf.pdf(x))\n",
    "plt.xlabel(\"Age\")\n",
    "plt.ylabel(\"Probability\")"
   ]
  },
  {
   "cell_type": "code",
   "execution_count": 40,
   "id": "86d980d6",
   "metadata": {},
   "outputs": [
    {
     "data": {
      "text/plain": [
       "count    549.000000\n",
       "mean      30.415100\n",
       "std       12.457370\n",
       "min        1.000000\n",
       "25%       23.000000\n",
       "50%       29.699118\n",
       "75%       35.000000\n",
       "max       74.000000\n",
       "Name: Age, dtype: float64"
      ]
     },
     "execution_count": 40,
     "metadata": {},
     "output_type": "execute_result"
    }
   ],
   "source": [
    "NotSurvived=train_df.loc[train_df[\"Survived\"]==0]\n",
    "Survived=train_df.loc[train_df[\"Survived\"]==1]\n",
    "Age_NotSurvived=NotSurvived[\"Age\"]\n",
    "Age_NotSurvived.describe()"
   ]
  },
  {
   "cell_type": "code",
   "execution_count": 41,
   "id": "3bebe233",
   "metadata": {},
   "outputs": [],
   "source": [
    "#计算出后验概率pdf --   p（Age|不幸存）\n",
    "Age_NotSurvived_mean=30.415100\n",
    "Age_NotSurvived_std=12.457370\n",
    "Age_NotSurvived_pdf=scipy.stats.norm(Age_NotSurvived_mean,Age_NotSurvived_std)"
   ]
  },
  {
   "cell_type": "code",
   "execution_count": 42,
   "id": "67f1ed16",
   "metadata": {},
   "outputs": [
    {
     "data": {
      "text/plain": [
       "count    342.000000\n",
       "mean      28.549778\n",
       "std       13.772498\n",
       "min        0.420000\n",
       "25%       21.000000\n",
       "50%       29.699118\n",
       "75%       35.000000\n",
       "max       80.000000\n",
       "Name: Age, dtype: float64"
      ]
     },
     "execution_count": 42,
     "metadata": {},
     "output_type": "execute_result"
    }
   ],
   "source": [
    "Age_Survived=Survived[\"Age\"]\n",
    "Age_Survived.describe()"
   ]
  },
  {
   "cell_type": "code",
   "execution_count": 43,
   "id": "b04946f0",
   "metadata": {},
   "outputs": [],
   "source": [
    "#计算出后验概率pdf --   p（Age|幸存）\n",
    "Age_Survived_mean=28.549778\n",
    "Age_Survived_std=13.772498\n",
    "Age_Survived_pdf=scipy.stats.norm(Age_Survived_mean,Age_Survived_std)"
   ]
  },
  {
   "cell_type": "markdown",
   "id": "a7e7d6d0",
   "metadata": {},
   "source": [
    "将两个后验概率绘制"
   ]
  },
  {
   "cell_type": "code",
   "execution_count": 44,
   "id": "5b852b74",
   "metadata": {},
   "outputs": [
    {
     "data": {
      "text/plain": [
       "<matplotlib.legend.Legend at 0x23eb55e0a90>"
      ]
     },
     "execution_count": 44,
     "metadata": {},
     "output_type": "execute_result"
    },
    {
     "data": {
      "image/png": "[encoded data removed]",
      "text/plain": [
       "<Figure size 432x288 with 1 Axes>"
      ]
     },
     "metadata": {
      "needs_background": "light"
     },
     "output_type": "display_data"
    }
   ],
   "source": [
    "x = np.linspace(0,80,100)\n",
    "plt.plot(x,Age_NotSurvived_pdf.pdf(x),c=\"b\",label=\"P(Age|NotSurvived)\")\n",
    "plt.plot(x,Age_Survived_pdf.pdf(x),c=\"g\",label=\"P(Age|Survived)\")\n",
    "plt.xlabel(\"Age\")\n",
    "plt.ylabel(\"Probability\")\n",
    "plt.legend()"
   ]
  },
  {
   "cell_type": "markdown",
   "id": "63c66be0",
   "metadata": {},
   "source": [
    "### 2.Fare(票价)\n",
    "查表得知票价均值为32.204208，标准差49.693429"
   ]
  },
  {
   "cell_type": "code",
   "execution_count": 45,
   "id": "08b782ea",
   "metadata": {},
   "outputs": [
    {
     "data": {
      "text/plain": [
       "Text(0, 0.5, 'Probability')"
      ]
     },
     "execution_count": 45,
     "metadata": {},
     "output_type": "execute_result"
    },
    {
     "data": {
      "image/png": "[encoded data removed]",
      "text/plain": [
       "<Figure size 432x288 with 1 Axes>"
      ]
     },
     "metadata": {
      "needs_background": "light"
     },
     "output_type": "display_data"
    }
   ],
   "source": [
    "Fare_mean=32.204208\n",
    "Fare_std=49.693429\n",
    "Fare_pdf=scipy.stats.norm(Fare_mean,Fare_std)\n",
    "x = np.linspace(0,513,100)\n",
    "plt.plot(x,Fare_pdf.pdf(x))\n",
    "plt.xlabel(\"Fare\")\n",
    "plt.ylabel(\"Probability\")"
   ]
  },
  {
   "cell_type": "code",
   "execution_count": 46,
   "id": "2942e9b5",
   "metadata": {},
   "outputs": [
    {
     "data": {
      "text/plain": [
       "count    549.000000\n",
       "mean      22.117887\n",
       "std       31.388207\n",
       "min        0.000000\n",
       "25%        7.854200\n",
       "50%       10.500000\n",
       "75%       26.000000\n",
       "max      263.000000\n",
       "Name: Fare, dtype: float64"
      ]
     },
     "execution_count": 46,
     "metadata": {},
     "output_type": "execute_result"
    }
   ],
   "source": [
    "Fare_NotSurvived=NotSurvived[\"Fare\"]\n",
    "Fare_NotSurvived.describe()"
   ]
  },
  {
   "cell_type": "code",
   "execution_count": 47,
   "id": "e1b15f4d",
   "metadata": {},
   "outputs": [],
   "source": [
    "#计算出后验概率pdf --   p（Fare|不幸存）\n",
    "Fare_NotSurvived_mean= 22.117887\n",
    "Fare_NotSurvived_std=31.388207\n",
    "Fare_NotSurvived_pdf=scipy.stats.norm(Fare_NotSurvived_mean,Fare_NotSurvived_std)"
   ]
  },
  {
   "cell_type": "code",
   "execution_count": 48,
   "id": "5158936e",
   "metadata": {},
   "outputs": [
    {
     "data": {
      "text/plain": [
       "count    342.000000\n",
       "mean      48.395408\n",
       "std       66.596998\n",
       "min        0.000000\n",
       "25%       12.475000\n",
       "50%       26.000000\n",
       "75%       57.000000\n",
       "max      512.329200\n",
       "Name: Fare, dtype: float64"
      ]
     },
     "execution_count": 48,
     "metadata": {},
     "output_type": "execute_result"
    }
   ],
   "source": [
    "Fare_Survived=Survived[\"Fare\"]\n",
    "Fare_Survived.describe()"
   ]
  },
  {
   "cell_type": "code",
   "execution_count": 49,
   "id": "1176aa7f",
   "metadata": {},
   "outputs": [],
   "source": [
    "#计算出后验概率pdf --   p（Fare|幸存）\n",
    "Fare_Survived_mean=48.395408\n",
    "Fare_Survived_std=66.596998\n",
    "Fare_Survived_pdf=scipy.stats.norm(Fare_Survived_mean,Fare_Survived_std)"
   ]
  },
  {
   "cell_type": "markdown",
   "id": "aa97c34e",
   "metadata": {},
   "source": [
    "将两个后验概率pdf绘制"
   ]
  },
  {
   "cell_type": "code",
   "execution_count": 50,
   "id": "a15df288",
   "metadata": {},
   "outputs": [
    {
     "data": {
      "text/plain": [
       "<matplotlib.legend.Legend at 0x23eb56ff4f0>"
      ]
     },
     "execution_count": 50,
     "metadata": {},
     "output_type": "execute_result"
    },
    {
     "data": {
      "image/png": "[encoded data removed]",
      "text/plain": [
       "<Figure size 432x288 with 1 Axes>"
      ]
     },
     "metadata": {
      "needs_background": "light"
     },
     "output_type": "display_data"
    }
   ],
   "source": [
    "x = np.linspace(0,513,100)\n",
    "plt.plot(x,Fare_NotSurvived_pdf.pdf(x),c=\"b\",label=\"P(Fare|NotSurvived)\")\n",
    "plt.plot(x,Fare_Survived_pdf.pdf(x),c=\"g\",label=\"P(Fare|Survived)\")\n",
    "plt.xlabel(\"Fare\")\n",
    "plt.ylabel(\"Probability\")\n",
    "plt.legend()"
   ]
  },
  {
   "cell_type": "markdown",
   "id": "ace6bd88",
   "metadata": {},
   "source": [
    "## 预测"
   ]
  },
  {
   "cell_type": "code",
   "execution_count": 51,
   "id": "83dfae64",
   "metadata": {},
   "outputs": [],
   "source": [
    "#todo 在这里参考一下kaggle怎么读取数据的"
   ]
  },
  {
   "cell_type": "code",
   "execution_count": 52,
   "id": "8248532a",
   "metadata": {},
   "outputs": [
    {
     "name": "stdout",
     "output_type": "stream",
     "text": [
      "<class 'pandas.core.frame.DataFrame'>\n",
      "RangeIndex: 418 entries, 0 to 417\n",
      "Data columns (total 8 columns):\n",
      " #   Column       Non-Null Count  Dtype  \n",
      "---  ------       --------------  -----  \n",
      " 0   PassengerId  418 non-null    int64  \n",
      " 1   Pclass       418 non-null    int64  \n",
      " 2   Sex          418 non-null    int32  \n",
      " 3   Age          418 non-null    float64\n",
      " 4   SibSp        418 non-null    int64  \n",
      " 5   Parch        418 non-null    int64  \n",
      " 6   Fare         418 non-null    float64\n",
      " 7   Embarked     418 non-null    int32  \n",
      "dtypes: float64(2), int32(2), int64(4)\n",
      "memory usage: 23.0 KB\n"
     ]
    },
    {
     "data": {
      "text/plain": [
       "{'Pclass-1|NotSurvived': 0.14571948998178508,\n",
       " 'Pclass-2|NotSurvived': 0.1766848816029144,\n",
       " 'Pclass-3|NotSurvived': 0.6775956284153005,\n",
       " 'Pclass-1|Survived': 0.39766081871345027,\n",
       " 'Pclass-2|Survived': 0.2543859649122807,\n",
       " 'Pclass-3|Survived': 0.347953216374269,\n",
       " 'male|NotSurvived': 0.8524590163934426,\n",
       " 'female|NotSurvived': 0.14754098360655737,\n",
       " 'male|Survived': 0.31871345029239767,\n",
       " 'female|Survived': 0.6812865497076024,\n",
       " 'SibSp-0|NotSurvived': 0.7249544626593807,\n",
       " 'SibSp-1|NotSurvived': 0.1766848816029144,\n",
       " 'SibSp-2|NotSurvived': 0.0273224043715847,\n",
       " 'SibSp-3|NotSurvived': 0.02185792349726776,\n",
       " 'SibSp-4|NotSurvived': 0.0273224043715847,\n",
       " 'SibSp-5|NotSurvived': 0.009107468123861567,\n",
       " 'SibSp-8|NotSurvived': 0.012750455373406194,\n",
       " 'SibSp-0|Survived': 0.6140350877192983,\n",
       " 'SibSp-1|Survived': 0.32748538011695905,\n",
       " 'SibSp-2|Survived': 0.038011695906432746,\n",
       " 'SibSp-3|Survived': 0.011695906432748537,\n",
       " 'SibSp-4|Survived': 0.008771929824561403,\n",
       " 'SibSp-5|Survived': 0.0,\n",
       " 'SibSp-8|Survived': 0.0,\n",
       " 'Parch-0|NotSurvived': 0.8105646630236795,\n",
       " 'Parch-1|NotSurvived': 0.0965391621129326,\n",
       " 'Parch-2|NotSurvived': 0.07285974499089254,\n",
       " 'Parch-3|NotSurvived': 0.0036429872495446266,\n",
       " 'Parch-4|NotSurvived': 0.007285974499089253,\n",
       " 'Parch-5|NotSurvived': 0.007285974499089253,\n",
       " 'Parch-6|NotSurvived': 0.0018214936247723133,\n",
       " 'Parch-0|Survived': 0.6812865497076024,\n",
       " 'Parch-1|Survived': 0.19005847953216373,\n",
       " 'Parch-2|Survived': 0.11695906432748537,\n",
       " 'Parch-3|Survived': 0.008771929824561403,\n",
       " 'Parch-4|Survived': 0.0,\n",
       " 'Parch-5|Survived': 0.0029239766081871343,\n",
       " 'Parch-6|Survived': 0.0,\n",
       " 'Embarked-0|NotSurvived': 0.7777777777777778,\n",
       " 'Embarked-1|NotSurvived': 0.1366120218579235,\n",
       " 'Embarked-2|NotSurvived': 0.08561020036429873,\n",
       " 'Embarked-0|Survived': 0.6403508771929824,\n",
       " 'Embarked-1|Survived': 0.2719298245614035,\n",
       " 'Embarked-2|Survived': 0.08771929824561403}"
      ]
     },
     "execution_count": 52,
     "metadata": {},
     "output_type": "execute_result"
    }
   ],
   "source": [
    "test_df[\"Sex\"]=Age_2_category(test_df[\"Sex\"]).astype(int)\n",
    "test_df[\"Embarked\"]=Embarked_2_category(test_df[\"Embarked\"]).astype(int)\n",
    "test_df.info()\n",
    "test_df\n",
    "prior_dict\n",
    "posterior_dict"
   ]
  },
  {
   "cell_type": "markdown",
   "id": "87ab9628",
   "metadata": {},
   "source": [
    "$$P(W_i|\\theta)=\\frac{P(\\theta|W_i)P(W_i)}{\\sum_{i=1}^nP(\\theta|W_i)P(W_i)}$$"
   ]
  },
  {
   "cell_type": "code",
   "execution_count": 53,
   "id": "49e07e96",
   "metadata": {},
   "outputs": [],
   "source": [
    "def P_w_theta(row,w=\"NotSurvived\"):    # P(w|Θ)\n",
    "    # prepocessing\n",
    "    if row[\"Parch\"]>6:\n",
    "        row[\"Parch\"]=6\n",
    "        \n",
    "    #get class name\n",
    "    Pclass=\"Pclass-{}\".format(int(row[\"Pclass\"]))\n",
    "    Sex=\"male\" if row[\"Sex\"]==0 else \"female\"\n",
    "    SibSp=\"SibSp-{}\".format(int(row[\"SibSp\"]))\n",
    "    Parch=\"Parch-{}\".format(int(row[\"Parch\"]))\n",
    "    Embarked=\"Embarked-{}\".format(int(row[\"Embarked\"]))\n",
    "    \n",
    "    # Prior Probability\n",
    "    Pclass_Prior_P=prior_dict[Pclass]\n",
    "    Sex_Prior_P=prior_dict[Sex]\n",
    "    SibSp_Prior_P=prior_dict[SibSp]\n",
    "    Parch_Prior_P=prior_dict[Parch]\n",
    "    Embarked_Prior_P=prior_dict[Embarked]\n",
    "    Age_Prior_P=Age_pdf.pdf(row[\"Age\"])\n",
    "    Fare_Prior_P=Fare_pdf.pdf(row[\"Fare\"])\n",
    "    \n",
    "    \n",
    "    # Posterior Probablility\n",
    "    Pclass_Post_P=posterior_dict[Pclass+\"|\"+w]\n",
    "    Sex_Post_P=posterior_dict[Sex+\"|\"+w]\n",
    "    SibSp_Post_P=posterior_dict[SibSp+\"|\"+w]\n",
    "    Parch_Post_P=posterior_dict[Parch+\"|\"+w]\n",
    "    Embarked_Post_P=posterior_dict[Embarked+\"|\"+w]\n",
    "    \n",
    "    \n",
    "    if w==\"NotSurvived\":      \n",
    "        Age_Post_P=Age_NotSurvived_pdf.pdf(row[\"Age\"])\n",
    "        Fare_Post_P=Fare_NotSurvived_pdf.pdf(row[\"Fare\"])\n",
    "    elif w==\"Survived\":\n",
    "        Age_Post_P=Age_Survived_pdf.pdf(row[\"Age\"])\n",
    "        Fare_Post_P=Fare_Survived_pdf.pdf(row[\"Fare\"])\n",
    "    \n",
    "    Numerator=Pclass_Post_P*Sex_Post_P*SibSp_Post_P*Parch_Post_P*Embarked_Post_P*Age_Post_P*Fare_Post_P*prior_dict[w]\n",
    "#     Numerator=Pclass_Post_P*prior_dict[w]\n",
    "    return Numerator\n"
   ]
  },
  {
   "cell_type": "code",
   "execution_count": 54,
   "id": "060306f1",
   "metadata": {},
   "outputs": [],
   "source": [
    "predict_list=[]\n",
    "for row in test_df.iterrows():\n",
    "    row=row[1]\n",
    "    NotSurvived=P_w_theta(row,\"NotSurvived\")\n",
    "    Survived=P_w_theta(row,\"Survived\")\n",
    "    if NotSurvived>Survived:\n",
    "        predict=0\n",
    "    else:\n",
    "        predict=1\n",
    "    predict_list.append(predict)"
   ]
  },
  {
   "cell_type": "code",
   "execution_count": 55,
   "id": "cdaa10e8",
   "metadata": {},
   "outputs": [],
   "source": [
    "submission = pd.DataFrame({\n",
    "        \"PassengerId\": test_df[\"PassengerId\"],\n",
    "        \"Survived\": predict_list}).astype(int)"
   ]
  },
  {
   "cell_type": "code",
   "execution_count": 56,
   "id": "762bf4b6",
   "metadata": {},
   "outputs": [
    {
     "data": {
      "text/html": [
       "<div>\n",
       "<style scoped>\n",
       "    .dataframe tbody tr th:only-of-type {\n",
       "        vertical-align: middle;\n",
       "    }\n",
       "\n",
       "    .dataframe tbody tr th {\n",
       "        vertical-align: top;\n",
       "    }\n",
       "\n",
       "    .dataframe thead th {\n",
       "        text-align: right;\n",
       "    }\n",
       "</style>\n",
       "<table border=\"1\" class=\"dataframe\">\n",
       "  <thead>\n",
       "    <tr style=\"text-align: right;\">\n",
       "      <th></th>\n",
       "      <th>PassengerId</th>\n",
       "      <th>Survived</th>\n",
       "    </tr>\n",
       "  </thead>\n",
       "  <tbody>\n",
       "    <tr>\n",
       "      <th>0</th>\n",
       "      <td>892</td>\n",
       "      <td>0</td>\n",
       "    </tr>\n",
       "    <tr>\n",
       "      <th>1</th>\n",
       "      <td>893</td>\n",
       "      <td>0</td>\n",
       "    </tr>\n",
       "    <tr>\n",
       "      <th>2</th>\n",
       "      <td>894</td>\n",
       "      <td>0</td>\n",
       "    </tr>\n",
       "    <tr>\n",
       "      <th>3</th>\n",
       "      <td>895</td>\n",
       "      <td>0</td>\n",
       "    </tr>\n",
       "    <tr>\n",
       "      <th>4</th>\n",
       "      <td>896</td>\n",
       "      <td>1</td>\n",
       "    </tr>\n",
       "    <tr>\n",
       "      <th>...</th>\n",
       "      <td>...</td>\n",
       "      <td>...</td>\n",
       "    </tr>\n",
       "    <tr>\n",
       "      <th>413</th>\n",
       "      <td>1305</td>\n",
       "      <td>0</td>\n",
       "    </tr>\n",
       "    <tr>\n",
       "      <th>414</th>\n",
       "      <td>1306</td>\n",
       "      <td>1</td>\n",
       "    </tr>\n",
       "    <tr>\n",
       "      <th>415</th>\n",
       "      <td>1307</td>\n",
       "      <td>0</td>\n",
       "    </tr>\n",
       "    <tr>\n",
       "      <th>416</th>\n",
       "      <td>1308</td>\n",
       "      <td>0</td>\n",
       "    </tr>\n",
       "    <tr>\n",
       "      <th>417</th>\n",
       "      <td>1309</td>\n",
       "      <td>0</td>\n",
       "    </tr>\n",
       "  </tbody>\n",
       "</table>\n",
       "<p>418 rows × 2 columns</p>\n",
       "</div>"
      ],
      "text/plain": [
       "     PassengerId  Survived\n",
       "0            892         0\n",
       "1            893         0\n",
       "2            894         0\n",
       "3            895         0\n",
       "4            896         1\n",
       "..           ...       ...\n",
       "413         1305         0\n",
       "414         1306         1\n",
       "415         1307         0\n",
       "416         1308         0\n",
       "417         1309         0\n",
       "\n",
       "[418 rows x 2 columns]"
      ]
     },
     "execution_count": 56,
     "metadata": {},
     "output_type": "execute_result"
    }
   ],
   "source": [
    "submission"
   ]
  },
  {
   "cell_type": "code",
   "execution_count": 57,
   "id": "9599d11e",
   "metadata": {},
   "outputs": [],
   "source": [
    "submission.to_csv(\"submission_new.csv\", index=False)"
   ]
  },
  {
   "cell_type": "code",
   "execution_count": null,
   "id": "20a28568",
   "metadata": {},
   "outputs": [],
   "source": []
  }
 ],
 "metadata": {
  "kernelspec": {
   "display_name": "Python 3",
   "language": "python",
   "name": "python3"
  },
  "language_info": {
   "codemirror_mode": {
    "name": "ipython",
    "version": 3
   },
   "file_extension": ".py",
   "mimetype": "text/x-python",
   "name": "python",
   "nbconvert_exporter": "python",
   "pygments_lexer": "ipython3",
   "version": "3.8.8"
  }
 },
 "nbformat": 4,
 "nbformat_minor": 5
}
